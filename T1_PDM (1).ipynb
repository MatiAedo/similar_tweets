{
 "cells": [
  {
   "cell_type": "markdown",
   "metadata": {
    "id": "LMZaN1fsnnwO"
   },
   "source": [
    "# Tarea 1 - IIC2440 \n",
    "\n",
    "### Sofía Escobedo - Matías Aedo"
   ]
  },
  {
   "cell_type": "markdown",
   "metadata": {
    "id": "YO007OACx-Nx"
   },
   "source": [
    "## Librerías"
   ]
  },
  {
   "cell_type": "markdown",
   "metadata": {},
   "source": [
    "Importamos las librerías que serán utilizadas a lo largo de la tarea. Es también necesario tener instalado \"wget\" y \"datasketch\"."
   ]
  },
  {
   "cell_type": "code",
   "execution_count": 181,
   "metadata": {
    "id": "jpaxbNsWx96I"
   },
   "outputs": [],
   "source": [
    "import os\n",
    "import re\n",
    "import csv\n",
    "import pickle\n",
    "import random\n",
    "import pandas as pd\n",
    "from bs4 import BeautifulSoup\n",
    "from IPython.display import clear_output\n",
    "from datasketch import MinHashLSH, MinHash"
   ]
  },
  {
   "cell_type": "markdown",
   "metadata": {
    "id": "ZpJTc8Ruo3L3"
   },
   "source": [
    "## Carga de datos"
   ]
  },
  {
   "cell_type": "markdown",
   "metadata": {},
   "source": [
    "Ahora cargamos los datos; si ya se tiene el dataset no será necesario descargarlo de dropbox con wget pero se deja la opción."
   ]
  },
  {
   "cell_type": "code",
   "execution_count": 3,
   "metadata": {
    "colab": {
     "base_uri": "https://localhost:8080/"
    },
    "id": "Bspb-9Twdbrg",
    "outputId": "5d11675a-1462-4bc9-e5d5-6b1187e38f84"
   },
   "outputs": [
    {
     "data": {
      "text/plain": [
       "['.ipynb_checkpoints', 'T1_PDM.ipynb', 'tweets_2022_abril_junio.csv']"
      ]
     },
     "execution_count": 3,
     "metadata": {},
     "output_type": "execute_result"
    }
   ],
   "source": [
    "os.listdir()"
   ]
  },
  {
   "cell_type": "code",
   "execution_count": 4,
   "metadata": {
    "colab": {
     "base_uri": "https://localhost:8080/"
    },
    "id": "dDl0e8S_x8nn",
    "outputId": "8e1caed2-2f3a-44e6-8d8b-4f94246c9397"
   },
   "outputs": [
    {
     "name": "stdout",
     "output_type": "stream",
     "text": [
      "Dataset ya descargado.\n"
     ]
    }
   ],
   "source": [
    "if 'tweets_2022_abril_junio.csv' in os.listdir():\n",
    "    print('Dataset ya descargado.')\n",
    "else:\n",
    "    !wget \"https://www.dropbox.com/s/j4h5v1arnemhbq3/tweets_2022_abril_junio.csv\""
   ]
  },
  {
   "cell_type": "markdown",
   "metadata": {},
   "source": [
    "Llevamos nuestro dataset al DataFrame con el que trabajaremos."
   ]
  },
  {
   "cell_type": "code",
   "execution_count": 5,
   "metadata": {
    "colab": {
     "base_uri": "https://localhost:8080/",
     "height": 328
    },
    "id": "Jl0JS3T1nkb0",
    "outputId": "829273c4-5518-42d2-9cff-cbcb5c6660d5"
   },
   "outputs": [],
   "source": [
    "df = pd.read_csv('tweets_2022_abril_junio.csv')"
   ]
  },
  {
   "cell_type": "markdown",
   "metadata": {
    "id": "yaDTImbyyXst"
   },
   "source": [
    "## Visualización inicial"
   ]
  },
  {
   "cell_type": "markdown",
   "metadata": {},
   "source": [
    "Realizamos una visualización inicial del dataframe para ver con qué estamos trabajando."
   ]
  },
  {
   "cell_type": "code",
   "execution_count": 6,
   "metadata": {
    "colab": {
     "base_uri": "https://localhost:8080/",
     "height": 206
    },
    "id": "0OZGmMLIOIUY",
    "outputId": "f72a8cc4-a1ec-4f68-edc7-81d06871c8db"
   },
   "outputs": [
    {
     "data": {
      "text/html": [
       "<div>\n",
       "<style scoped>\n",
       "    .dataframe tbody tr th:only-of-type {\n",
       "        vertical-align: middle;\n",
       "    }\n",
       "\n",
       "    .dataframe tbody tr th {\n",
       "        vertical-align: top;\n",
       "    }\n",
       "\n",
       "    .dataframe thead th {\n",
       "        text-align: right;\n",
       "    }\n",
       "</style>\n",
       "<table border=\"1\" class=\"dataframe\">\n",
       "  <thead>\n",
       "    <tr style=\"text-align: right;\">\n",
       "      <th></th>\n",
       "      <th>id</th>\n",
       "      <th>created_at</th>\n",
       "      <th>screen_name</th>\n",
       "      <th>text</th>\n",
       "      <th>favorite_count</th>\n",
       "      <th>retweet_count</th>\n",
       "    </tr>\n",
       "  </thead>\n",
       "  <tbody>\n",
       "    <tr>\n",
       "      <th>0</th>\n",
       "      <td>1512186166438637582</td>\n",
       "      <td>2022-04-07 21:50:51 UTC</td>\n",
       "      <td>h0l4d4ni3l4</td>\n",
       "      <td>RT @ValeMirandaCC: Tras casi 50 años del golpe...</td>\n",
       "      <td>0</td>\n",
       "      <td>0</td>\n",
       "    </tr>\n",
       "    <tr>\n",
       "      <th>1</th>\n",
       "      <td>1512186202367045642</td>\n",
       "      <td>2022-04-07 21:51:00 UTC</td>\n",
       "      <td>Claudio70932894</td>\n",
       "      <td>RT @UTDTrabajoDigno: Mañana jueves a las 18hrs...</td>\n",
       "      <td>0</td>\n",
       "      <td>0</td>\n",
       "    </tr>\n",
       "    <tr>\n",
       "      <th>2</th>\n",
       "      <td>1512186287284924418</td>\n",
       "      <td>2022-04-07 21:51:20 UTC</td>\n",
       "      <td>Cesar_A_RR</td>\n",
       "      <td>RT @JaimeGuajardoR: Aquí está el aporte de @te...</td>\n",
       "      <td>0</td>\n",
       "      <td>0</td>\n",
       "    </tr>\n",
       "    <tr>\n",
       "      <th>3</th>\n",
       "      <td>1512186335754301446</td>\n",
       "      <td>2022-04-07 21:51:32 UTC</td>\n",
       "      <td>rosmarieher</td>\n",
       "      <td>RT @melnicksergio: la pelotudez no tiene limit...</td>\n",
       "      <td>0</td>\n",
       "      <td>0</td>\n",
       "    </tr>\n",
       "    <tr>\n",
       "      <th>4</th>\n",
       "      <td>1512186407841767424</td>\n",
       "      <td>2022-04-07 21:51:49 UTC</td>\n",
       "      <td>GQuelluen</td>\n",
       "      <td>RT @BSepulvedaHales: Ante la circulación de no...</td>\n",
       "      <td>0</td>\n",
       "      <td>0</td>\n",
       "    </tr>\n",
       "  </tbody>\n",
       "</table>\n",
       "</div>"
      ],
      "text/plain": [
       "                    id               created_at      screen_name  \\\n",
       "0  1512186166438637582  2022-04-07 21:50:51 UTC      h0l4d4ni3l4   \n",
       "1  1512186202367045642  2022-04-07 21:51:00 UTC  Claudio70932894   \n",
       "2  1512186287284924418  2022-04-07 21:51:20 UTC       Cesar_A_RR   \n",
       "3  1512186335754301446  2022-04-07 21:51:32 UTC      rosmarieher   \n",
       "4  1512186407841767424  2022-04-07 21:51:49 UTC        GQuelluen   \n",
       "\n",
       "                                                text  favorite_count  \\\n",
       "0  RT @ValeMirandaCC: Tras casi 50 años del golpe...               0   \n",
       "1  RT @UTDTrabajoDigno: Mañana jueves a las 18hrs...               0   \n",
       "2  RT @JaimeGuajardoR: Aquí está el aporte de @te...               0   \n",
       "3  RT @melnicksergio: la pelotudez no tiene limit...               0   \n",
       "4  RT @BSepulvedaHales: Ante la circulación de no...               0   \n",
       "\n",
       "   retweet_count  \n",
       "0              0  \n",
       "1              0  \n",
       "2              0  \n",
       "3              0  \n",
       "4              0  "
      ]
     },
     "execution_count": 6,
     "metadata": {},
     "output_type": "execute_result"
    }
   ],
   "source": [
    "df.head()"
   ]
  },
  {
   "cell_type": "markdown",
   "metadata": {},
   "source": [
    "También queremos saber con cuántas filas estamos trabajando en un principio."
   ]
  },
  {
   "cell_type": "code",
   "execution_count": 7,
   "metadata": {
    "colab": {
     "base_uri": "https://localhost:8080/"
    },
    "id": "u0N63D9EyaB7",
    "outputId": "ad891e71-7847-41f1-c51c-8b4cd6d76564"
   },
   "outputs": [
    {
     "name": "stdout",
     "output_type": "stream",
     "text": [
      "El dataframe tiene 4594980 filas.\n"
     ]
    }
   ],
   "source": [
    "shape_0 = df.shape\n",
    "print(f\"El dataframe tiene {shape_0[0]} filas.\")"
   ]
  },
  {
   "cell_type": "markdown",
   "metadata": {
    "id": "DgzvlR4JVkgF"
   },
   "source": [
    "## Preprocesamiento y limpieza de datos"
   ]
  },
  {
   "cell_type": "markdown",
   "metadata": {
    "id": "BroM9qOkbal0"
   },
   "source": [
    "Primero buscaremos eliminar filas duplicadas y valores nulos."
   ]
  },
  {
   "cell_type": "code",
   "execution_count": 8,
   "metadata": {},
   "outputs": [
    {
     "name": "stdout",
     "output_type": "stream",
     "text": [
      "Esta acción se deshizo de 2174 filas. \n",
      "El dataframe tiene 4592806 filas.\n"
     ]
    }
   ],
   "source": [
    "df = df.drop_duplicates(subset=['id', 'text'])\n",
    "df = df.dropna(subset=['id', 'text', 'screen_name'])\n",
    "shape_1 = df.shape\n",
    "print(f\"Esta acción se deshizo de {shape_0[0] - shape_1[0]} filas. \\nEl dataframe tiene {shape_1[0]} filas.\")"
   ]
  },
  {
   "cell_type": "markdown",
   "metadata": {},
   "source": [
    "Tampoco nos interesa mantener aquellas filas cuyo \"screen_name\" y \"text\" es el mismo, es decir, un usuario que twitteó dos veces lo mismo."
   ]
  },
  {
   "cell_type": "code",
   "execution_count": 9,
   "metadata": {
    "id": "9BSF-wEnaEq1"
   },
   "outputs": [
    {
     "name": "stdout",
     "output_type": "stream",
     "text": [
      "Esta acción se deshizo de 42834 filas. \n",
      "El dataframe tiene 4549972 filas.\n"
     ]
    }
   ],
   "source": [
    "df = df.drop_duplicates(subset=['screen_name', 'text'])\n",
    "shape_2 = df.shape\n",
    "print(f\"Esta acción se deshizo de {shape_1[0] - shape_2[0]} filas. \\nEl dataframe tiene {shape_2[0]} filas.\")"
   ]
  },
  {
   "cell_type": "markdown",
   "metadata": {},
   "source": [
    "Entre los tweets que vimos en la visualización inicial pudimos notar que son todos retweets. Ya que los retweets de una persona no nos dicen nada sobre su propio estilo de escritura, hemos decidido eliminarlos."
   ]
  },
  {
   "cell_type": "code",
   "execution_count": 10,
   "metadata": {},
   "outputs": [
    {
     "name": "stdout",
     "output_type": "stream",
     "text": [
      "Esta acción se deshizo de 3299423 filas. \n",
      "El dataframe tiene 1250549 filas.\n"
     ]
    }
   ],
   "source": [
    "df = df[~df['text'].str.startswith('RT')]\n",
    "shape_3 = df.shape\n",
    "print(f\"Esta acción se deshizo de {shape_2[0] - shape_3[0]} filas. \\nEl dataframe tiene {shape_3[0]} filas.\")"
   ]
  },
  {
   "cell_type": "markdown",
   "metadata": {
    "id": "tpy8e7NUsTOm"
   },
   "source": [
    "Ahora que terminamos el preprocesamiento de los datos, pasaremos a la limpieza del \"texto\" de los tweets. Usaremos una copia del dataframe para mostrar ciertos ejemplos de la limpieza que se hará luego."
   ]
  },
  {
   "cell_type": "code",
   "execution_count": 11,
   "metadata": {},
   "outputs": [],
   "source": [
    "df_limpieza = df.copy()"
   ]
  },
  {
   "cell_type": "markdown",
   "metadata": {},
   "source": [
    "Pudimos notar que en lugar de \"&\" se encontraba la presencia de \"&amp\" en los tweets. \n",
    "\n",
    "A continuación, mostramos un ejemplo de un tweet en el que esto sucede y cómo quedará después de limpiarlo."
   ]
  },
  {
   "cell_type": "code",
   "execution_count": 12,
   "metadata": {
    "colab": {
     "base_uri": "https://localhost:8080/"
    },
    "id": "zQ7KujnPUnb-",
    "outputId": "9721c0ea-aa95-4805-cc72-a2acaf5c6481"
   },
   "outputs": [
    {
     "name": "stdout",
     "output_type": "stream",
     "text": [
      "Tweet previo a limpieza:\n",
      " @mcubillossigall &amp; fuiste ministra de educación JAJASJAJ 🤡🤡🤡🤡🤡\n",
      "Tweet posterior a limpieza:\n",
      " @mcubillossigall & fuiste ministra de educación JAJASJAJ 🤡🤡🤡🤡🤡\n"
     ]
    }
   ],
   "source": [
    "ejemplo_1 = df_limpieza.text[4549723]\n",
    "print(\"Tweet previo a limpieza:\\n\", ejemplo_1)\n",
    "ejemplo_1 = BeautifulSoup(ejemplo_1, 'lxml')\n",
    "ejemplo_1 = ejemplo_1.get_text()\n",
    "df_limpieza.at[4549723, 'text'] = ejemplo_1\n",
    "print(\"Tweet posterior a limpieza:\\n\", df_limpieza.text[4549723])"
   ]
  },
  {
   "cell_type": "markdown",
   "metadata": {},
   "source": [
    "Muchos de los tweets tienen imágenes o gifs, la mayoría utilizadas como \"reacciones\" o \"memes\". El mantener esto en el \"texto\" del tweet podría causar problemas a la hora de encontrar personas similares, ya que no tiene que ver con su estilo de escritura y podría sezgar los resultados a simplemente personas que utilizaron la misma imagen de reacción. \n",
    "\n",
    "Por esto, serán eliminados los \"links\" que denotan imágenes o gifs. A continuación, mostramos un ejemplo de un tweet en el que esto sucede y cómo quedará después de limpiarlo."
   ]
  },
  {
   "cell_type": "code",
   "execution_count": 13,
   "metadata": {},
   "outputs": [
    {
     "name": "stdout",
     "output_type": "stream",
     "text": [
      "Tweet previo a limpieza:\n",
      " @christianpviera Taba juerte parece. https://t.co/QvdsK7OeGm\n",
      "Tweet posterior a limpieza:\n",
      " @christianpviera Taba juerte parece. \n"
     ]
    }
   ],
   "source": [
    "ejemplo_2 = df_limpieza.text[4568847]\n",
    "print(\"Tweet previo a limpieza:\\n\", ejemplo_2)\n",
    "ejemplo_2 = re.sub('https?://[A-Za-z0-9./]+','',ejemplo_2)\n",
    "df_limpieza.at[4568847, 'text'] = ejemplo_2\n",
    "print(\"Tweet posterior a limpieza:\\n\", df_limpieza.text[4568847])"
   ]
  },
  {
   "cell_type": "markdown",
   "metadata": {},
   "source": [
    "Al realizar el resto del proceso con la limpieza tal cual está hasta el momento, notamos que comenzaba a agrupar los tweets similares según las menciones realizadas en un tweet, por lo que cualquier respuesta o mención a otra persona contaba como una similaridad. Esto sezga los resultados, ya que no encuentra similitudes según el estilo de escritura sino según a qué persona se menciona.\n",
    "\n",
    "Por esto, decidimos eliminar las menciones. A continuación, mostramos un ejemplo de un tweet en el que esto sucede y cómo quedará después de limpiarlo."
   ]
  },
  {
   "cell_type": "code",
   "execution_count": 14,
   "metadata": {},
   "outputs": [
    {
     "name": "stdout",
     "output_type": "stream",
     "text": [
      "Tweet previo a limpieza:\n",
      " @HernanLarrain @gabrielboric Que va a hacer nada!! Solo prestarle ropa para que se siga equivocando\n",
      "Tweet posterior a limpieza:\n",
      " Que va a hacer nada!! Solo prestarle ropa para que se siga equivocando\n"
     ]
    }
   ],
   "source": [
    "ejemplo_3 = df_limpieza.text[17]\n",
    "print(\"Tweet previo a limpieza:\\n\", ejemplo_3)\n",
    "ejemplo_3 = ejemplo_3.replace(\"_\", \"\")\n",
    "ejemplo_3 = re.sub(r'@\\w+\\b','', ejemplo_3)\n",
    "ejemplo_3 = ejemplo_3.lstrip()\n",
    "df_limpieza.at[17, 'text'] = ejemplo_3\n",
    "print(\"Tweet posterior a limpieza:\\n\", df_limpieza.text[17])"
   ]
  },
  {
   "cell_type": "markdown",
   "metadata": {},
   "source": [
    "Ahora que ya se han mostrado ejemplos de la limpieza que será realizada, es momento de realizarla sobre todas las filas del dataframe preprocesado. Para distintas pruebas que se quieren realizar, los tweets serán divididos según su largo con los grupos siendo tweets de entre 0 a 70 caracteres, 71 a 120 caracteres y de más de 120 caracteres."
   ]
  },
  {
   "cell_type": "code",
   "execution_count": 18,
   "metadata": {},
   "outputs": [
    {
     "name": "stdout",
     "output_type": "stream",
     "text": [
      "Wall time: 1min 12s\n"
     ]
    }
   ],
   "source": [
    "%%time\n",
    "tweets_0_70 = {}\n",
    "tweets_71_120 = {}\n",
    "tweets_121_x = {}\n",
    "\n",
    "if 'tweets_0_70_noRT.pkl' in os.listdir():\n",
    "    file = open('tweets_0_70_noRT.pkl', 'rb')\n",
    "    tweets_0_70 = pickle.load(file)\n",
    "    file.close()\n",
    "\n",
    "    file = open('tweets_71_120_noRT.pkl', 'rb')\n",
    "    tweets_71_120 = pickle.load(file)\n",
    "    file.close()\n",
    "\n",
    "    file = open('tweets_121_x_noRT.pkl', 'rb')\n",
    "    tweets_121_x = pickle.load(file)\n",
    "    file.close()\n",
    "else:\n",
    "    for index, row in df.iterrows():\n",
    "        texto = row['text']\n",
    "      \n",
    "        if '&amp' in texto:\n",
    "            texto = BeautifulSoup(texto, 'lxml')\n",
    "            texto = texto.get_text()\n",
    "            df.at[index, 'text'] = texto\n",
    "\n",
    "        if 't.co' in texto:\n",
    "            texto = re.sub('https?://[A-Za-z0-9./]+', '', texto)\n",
    "            df.at[index, 'text'] = texto\n",
    "      \n",
    "        if '@' in texto:\n",
    "            texto = texto.replace(\"_\", \"\")\n",
    "            texto = re.sub(r'@\\w+\\b','', texto)\n",
    "            texto = texto.lstrip()\n",
    "            df.at[index, 'text'] = texto\n",
    "        \n",
    "        if len(texto) > 2:\n",
    "            if len(texto) < 71:\n",
    "                tweets_0_70[str(row['id'])] = texto\n",
    "            elif len(texto) < 121:\n",
    "                tweets_71_120[str(row['id'])] = texto\n",
    "            else:\n",
    "                tweets_121_x[str(row['id'])] = texto\n",
    "                \n",
    "    df = df[df['text'].str.len()>2]\n",
    "        \n",
    "    file = open('tweets_0_70_noRT.pkl', 'wb')\n",
    "    pickle.dump(tweets_0_70, file)\n",
    "    file.close()\n",
    "\n",
    "    file = open('tweets_71_120_noRT.pkl', 'wb')\n",
    "    pickle.dump(tweets_71_120, file)\n",
    "    file.close()\n",
    "\n",
    "    file = open('tweets_121_x_noRT.pkl', 'wb')\n",
    "    pickle.dump(tweets_121_x, file)\n",
    "    file.close()\n",
    "            "
   ]
  },
  {
   "cell_type": "code",
   "execution_count": 20,
   "metadata": {
    "colab": {
     "base_uri": "https://localhost:8080/"
    },
    "id": "QshmJU2bltds",
    "outputId": "0b62cd07-ea79-48e9-9dd0-8925ce5d923b"
   },
   "outputs": [
    {
     "name": "stdout",
     "output_type": "stream",
     "text": [
      "Cantidad de tweets entre 0 y 70 caracteres: 834150\n",
      "Cantidad de tweets entre 71 y 120 caracteres: 276811\n",
      "Cantidad de tweets con más de 120 caracteres: 10684\n"
     ]
    }
   ],
   "source": [
    "print(f\"Cantidad de tweets entre 0 y 70 caracteres: {len(tweets_0_70)}\")\n",
    "print(f\"Cantidad de tweets entre 71 y 120 caracteres: {len(tweets_71_120)}\")\n",
    "print(f\"Cantidad de tweets con más de 120 caracteres: {len(tweets_121_x)}\")"
   ]
  },
  {
   "cell_type": "markdown",
   "metadata": {},
   "source": [
    "Se creará \"big_tweets\" como unión de los tres grupos anteriores para el procesamiento de datos con todas las filas juntas."
   ]
  },
  {
   "cell_type": "code",
   "execution_count": 21,
   "metadata": {},
   "outputs": [
    {
     "name": "stdout",
     "output_type": "stream",
     "text": [
      "Cantidad de tweets total: 1121645\n"
     ]
    }
   ],
   "source": [
    "big_tweets = tweets_0_70 | tweets_71_120 | tweets_121_x\n",
    "\n",
    "print(f\"Cantidad de tweets total: {len(big_tweets)}\")"
   ]
  },
  {
   "cell_type": "markdown",
   "metadata": {},
   "source": [
    "## Funciones de comparación, hashing y Jaccard"
   ]
  },
  {
   "cell_type": "markdown",
   "metadata": {},
   "source": [
    "Función para generar k-shingles a partir de un texto dado."
   ]
  },
  {
   "cell_type": "code",
   "execution_count": 24,
   "metadata": {},
   "outputs": [],
   "source": [
    "def generate_k_shingles(text, k):\n",
    "    shingles = set()\n",
    "    for i in range(len(text) - k + 1):\n",
    "        shingle = text[i:i+k]\n",
    "        shingles.add(shingle)\n",
    "    return shingles"
   ]
  },
  {
   "cell_type": "markdown",
   "metadata": {},
   "source": [
    "Función para crear un índice LSH a partir de un diccionario de textos, utilizando el algoritmo de firma MinHash y el esquema LSH  a las firmas."
   ]
  },
  {
   "cell_type": "code",
   "execution_count": 25,
   "metadata": {},
   "outputs": [],
   "source": [
    "def create_hash_lsh(texts_dict, threshold, k):\n",
    "    lsh = MinHashLSH(threshold=threshold)\n",
    "    count = 0\n",
    "    for text_id, text in texts_dict.items():\n",
    "        shingles = generate_k_shingles(text, k)\n",
    "        minhash = MinHash()\n",
    "\n",
    "        for shingle in shingles:\n",
    "            minhash.update(shingle.encode('utf8'))\n",
    "        \n",
    "        lsh.insert(text_id, minhash)\n",
    "        count += 1\n",
    "        \n",
    "        # descomentar si se quieren \"updates\" \n",
    "        #if count % 5000 == 0:\n",
    "        #    print(\"Se han hasheado \", count, \" tweets\")\n",
    "\n",
    "    return lsh"
   ]
  },
  {
   "cell_type": "markdown",
   "metadata": {},
   "source": [
    "Función para buscar en un índice LSH los elementos que coinciden con un tweet dado."
   ]
  },
  {
   "cell_type": "code",
   "execution_count": 26,
   "metadata": {},
   "outputs": [],
   "source": [
    "def obtain_bucket(lsh, tweet, k):\n",
    "    shingles = generate_k_shingles(tweet, k)\n",
    "    minhash_actual = MinHash()\n",
    "    for shingle in shingles:\n",
    "        minhash_actual.update(shingle.encode('utf8'))\n",
    "\n",
    "    result = lsh.query(minhash_actual)\n",
    "    return result"
   ]
  },
  {
   "cell_type": "markdown",
   "metadata": {},
   "source": [
    "Función para calcular el coeficiente de Jaccard entre dos tweets dados."
   ]
  },
  {
   "cell_type": "code",
   "execution_count": 27,
   "metadata": {},
   "outputs": [],
   "source": [
    "def jaccard(tweet1, tweet2, k):\n",
    "    shingles1 = generate_k_shingles(tweet1, k)\n",
    "    shingles2 = generate_k_shingles(tweet2, k)\n",
    "\n",
    "    result = len(shingles1.intersection(shingles2)) / len(shingles1.union(shingles2))\n",
    "\n",
    "    return result"
   ]
  },
  {
   "cell_type": "markdown",
   "metadata": {},
   "source": [
    "Función para buscar tweets similares a uno de referencia utilizando un índice LSH y el coeficiente de Jaccard. Si se ingresa un \"reference_id\" se buscan para el tweet pedido, y si no se busca un tweet al azar dentro del diccionario text_dict."
   ]
  },
  {
   "cell_type": "code",
   "execution_count": 150,
   "metadata": {},
   "outputs": [],
   "source": [
    "def get_similar_tweets(text_dict, reference_id = False, print_it = False):\n",
    "    if not reference_id:\n",
    "        reference_id, reference_text = random.choice(list(text_dict.items()))\n",
    "    else:\n",
    "        reference_text = text_dict[reference_id]\n",
    "    \n",
    "    # obtener el bucket del tweet con sus tweets similares según lsh\n",
    "    bucket = obtain_bucket(lsh, reference_text, k)\n",
    "    \n",
    "    # evaluar su similaridad según el coeficiente de Jaccard\n",
    "    tweets_similares = {}\n",
    "    for id in bucket:\n",
    "        similaridad = jaccard(reference_text, text_dict[id], k)\n",
    "        if similaridad > s and reference_id!=id:\n",
    "            tweets_similares[id] = [text_dict[id], similaridad]\n",
    "    \n",
    "    # imprimir los tweets si es requerido\n",
    "    if print_it:\n",
    "        print(f'Buscando tweets similares a \"{reference_text}\"')\n",
    "        i = 1\n",
    "        for key, value in tweets_similares.items():\n",
    "            print(f'{i}. {value[0]}')\n",
    "            i += 1\n",
    "            \n",
    "    return [reference_id, tweets_similares]"
   ]
  },
  {
   "cell_type": "markdown",
   "metadata": {},
   "source": [
    "Función para guardar los tweets similares en un csv."
   ]
  },
  {
   "cell_type": "code",
   "execution_count": 176,
   "metadata": {},
   "outputs": [],
   "source": [
    "def save_dict_to_csv(dictionary, filename):\n",
    "    with open(filename, 'w', newline='', encoding=\"utf-8\") as csvfile:\n",
    "        writer = csv.writer(csvfile)\n",
    "        writer.writerow(['ID', 'Tweet'])  # Escribir el encabezado\n",
    "\n",
    "        for key, value in dictionary.items():\n",
    "            writer.writerow([key, value[0]]) # Escribir cada fila"
   ]
  },
  {
   "cell_type": "markdown",
   "metadata": {},
   "source": [
    "Función para ajustar el diccionario \"usuarios\" según tweets similares a un tweet específico."
   ]
  },
  {
   "cell_type": "code",
   "execution_count": 65,
   "metadata": {},
   "outputs": [],
   "source": [
    "def tweet_similar_users(df, tweets_similares, usuarios):\n",
    "    for key, value in tweets_similares.items():\n",
    "        user = df.loc[df['id'] == int(key), 'screen_name'].values[0]\n",
    "        if user in usuarios.keys():\n",
    "            cantidad = usuarios[user][1]\n",
    "            new_value = ((usuarios[user][0] * cantidad) + value[1])/(cantidad+1)\n",
    "            usuarios[user] = [new_value, cantidad+1]\n",
    "        else: \n",
    "            usuarios[user] = [value[1], 1]\n",
    "    return usuarios"
   ]
  },
  {
   "cell_type": "markdown",
   "metadata": {},
   "source": [
    "Función para truncar la lista de usuarios similares, quedandonos solo con aquellos que tengan más de \"t\" tweets similares y por sobre un \"s\" de similaridad en general."
   ]
  },
  {
   "cell_type": "code",
   "execution_count": 147,
   "metadata": {},
   "outputs": [],
   "source": [
    "def most_similar_users(usuarios, s, t):\n",
    "    u_copy = usuarios.copy()\n",
    "    for u in u_copy:\n",
    "        if usuarios[u][0] < s:\n",
    "            del usuarios[u]\n",
    "        elif usuarios[u][1] < t:\n",
    "            del usuarios[u]\n",
    "            \n",
    "    usuarios = {k: v for k, v in sorted(usuarios.items(), key=lambda x: x[1][0], reverse=True)}\n",
    "    return usuarios"
   ]
  },
  {
   "cell_type": "markdown",
   "metadata": {},
   "source": [
    "Función para encontrar usuarios similares a uno en específico; para hacer esto se buscan todos los tweets de ese usuario y para cada uno sus tweets similares. Con esto se va creando el diccionario \"usuarios\" cuya llave es el nombre del otro usuario y sus valores son la similaridad promedio y la cantidad de tweets similares encontrados. \n",
    "\n",
    "Para finalizar, se truncan los resultados para obtener aquellos usuarios que tengan más de 10 tweets similares (ya que consideramos que menos de eso es inconclusivo) y más de un 0.5 de similaridad (ya que consideramos que menos de eso no es realmente similar). \n",
    "\n",
    "Si no se entrega un usuario, la función buscará uno al azar."
   ]
  },
  {
   "cell_type": "code",
   "execution_count": 165,
   "metadata": {},
   "outputs": [],
   "source": [
    "def get_similar_users(df, tweets_similares, text_dict, user=False):\n",
    "    if not user:\n",
    "        user = df.sample().values[0][2]\n",
    "    \n",
    "    print(f'Buscando usuarios similares a {user}...')\n",
    "    \n",
    "    user_tweets = df[df['screen_name'] == user]\n",
    "    \n",
    "    i = 1\n",
    "    usuarios = {}\n",
    "    for tweet in user_tweets.values:\n",
    "        print(f'Revisando {i}/{len(user_tweets)} tweets...')\n",
    "        reference_id, tweets_similares = get_similar_tweets(big_tweets, str(tweet[0]))\n",
    "        usuarios = tweet_similar_users(df, tweets_similares, usuarios)\n",
    "        i += 1\n",
    "    \n",
    "    usuarios = most_similar_users(usuarios, 0.5, 10)\n",
    "    \n",
    "    if len(usuarios) == 0:\n",
    "        print('No se lograron encontrar usuarios similares.')\n",
    "    return [user, usuarios]"
   ]
  },
  {
   "cell_type": "markdown",
   "metadata": {},
   "source": [
    "Función para imprimir los usuarios similares a un usuario."
   ]
  },
  {
   "cell_type": "code",
   "execution_count": 124,
   "metadata": {},
   "outputs": [],
   "source": [
    "def print_similar_users(usuario, usuarios):\n",
    "    print(f'Los usuarios más similares a {usuario} son')\n",
    "    i = 1\n",
    "    for u in usuarios:\n",
    "        print(f'{i}. {u} con una similaridad de {usuarios[u][0]} para {usuarios[u][1]} tweets.')\n",
    "        i += 1 "
   ]
  },
  {
   "cell_type": "markdown",
   "metadata": {},
   "source": [
    "Función para imprimir los perfiles de dos usuarios similares encontrados."
   ]
  },
  {
   "cell_type": "code",
   "execution_count": 145,
   "metadata": {},
   "outputs": [],
   "source": [
    "def show_similar_pair(user1, user2):\n",
    "    user1_tweets = df[df['screen_name'] == user1]\n",
    "    user2_tweets = df[df['screen_name'] == user2]\n",
    "    \n",
    "    print(f'Perfil del Usuario {user1}')\n",
    "    for tweet in user1_tweets.values:\n",
    "        print(tweet[3])\n",
    "    \n",
    "    print('- '*30)\n",
    "    \n",
    "    print(f'Perfil del Usuario {user2}')\n",
    "    for tweet in user2_tweets.values:\n",
    "        print(tweet[3])"
   ]
  },
  {
   "cell_type": "markdown",
   "metadata": {},
   "source": [
    "## Procesamiento de datos"
   ]
  },
  {
   "cell_type": "markdown",
   "metadata": {},
   "source": [
    "Creamos el LSH. Se puede probar con distintos k, s y threshold. Esta celda toma entre 20 y 40 minutos."
   ]
  },
  {
   "cell_type": "code",
   "execution_count": 33,
   "metadata": {},
   "outputs": [],
   "source": [
    "k = 3\n",
    "s = 0.2\n",
    "threshold = 0.2\n",
    "\n",
    "# Se crea el LSH\n",
    "lsh = create_hash_lsh(big_tweets, threshold, k)"
   ]
  },
  {
   "cell_type": "markdown",
   "metadata": {},
   "source": [
    "## Obtener tweets similares"
   ]
  },
  {
   "cell_type": "markdown",
   "metadata": {},
   "source": [
    "A continuación, entregamos dos ejemplos obteniendo tweets similares a uno dado. Primero será con uno que hayamos elegido, y el otro será al azar."
   ]
  },
  {
   "cell_type": "code",
   "execution_count": 179,
   "metadata": {},
   "outputs": [
    {
     "name": "stdout",
     "output_type": "stream",
     "text": [
      "Buscando tweets similares a \"Metete tus normas donde ud sabe\"\n",
      "1. Metete tu solidaridad por donde te quepa\n",
      "2. Ya sabes donde meterte tus \"buenas noticias\" para ti, con letra chica para el resto.\n",
      "3. Metete tus normas por el orto pajaron qliao\n",
      "4. Ni si quiera  se sabe las normas.\n",
      "5. Este no sabe donde tiene la #raja !!!\n",
      "6. Metete tu borrador por donde mas te guste💩💩💩🤬🤬🤬🤬🤬\n",
      "7. Una Mier… tus normas!!! \n",
      "8. Evidentemente no sabes donde estás parada\n",
      "9. Ninguno, ud no sabe entender las normas\n",
      "10. Puro pico tus normas saco wueas\n",
      "11. Métete tu borrador por donde tu sabes.\n",
      "12. Metete tu porquería por donde te quepa\n",
      "13. Metete tu CC por donde te quepa!!!!\n",
      "14. Metete tus palabras por donde quieras.\n",
      "15. De donde sacó ud eso?\n",
      "16. Metete tu pluri por donde mas te quepa vieja chanta\n",
      "17. Metela ya sabes por donde\n",
      "18. Metas las normas donde le quepan...\n",
      "19. 🤣🤣🤣🤣🤣 ya sabes donde meterte la carta \n",
      "20. Metetela donde te caiga😏\n",
      "21. Metetela x donde te quepa ctm\n",
      "22. Sabes donde metertetela \n",
      "23. Metete las Cápsulas por donde ya sabes\n",
      "🤦\n",
      "24. Métete tu apruebo por donde mas te quepa!\n",
      "25. Ahí tus cagas de norma……\n",
      "26. Métete tus banderas... tu sabes x donde!\n",
      "27. Metete las normas normas en la raja\n",
      "28. Métete tu constitución ya sabes por donde\n"
     ]
    }
   ],
   "source": [
    "similar_tweets = get_similar_tweets(big_tweets, '1525861915976556550', True)"
   ]
  },
  {
   "cell_type": "markdown",
   "metadata": {},
   "source": [
    "Ahora lo guardamos en csv."
   ]
  },
  {
   "cell_type": "code",
   "execution_count": 182,
   "metadata": {},
   "outputs": [],
   "source": [
    "save_dict_to_csv(similar_tweets[1], 'tweets_similares_1.csv')"
   ]
  },
  {
   "cell_type": "markdown",
   "metadata": {},
   "source": [
    "Probamos con un tweet generado al azar."
   ]
  },
  {
   "cell_type": "code",
   "execution_count": 183,
   "metadata": {},
   "outputs": [
    {
     "name": "stdout",
     "output_type": "stream",
     "text": [
      "Buscando tweets similares a \"Hey 👋 ¡Ya es hora de que te recuerde lo que me has pedido!\n",
      "\"\n",
      "1. Un recuerdo de lo que han hecho los angelitos \n",
      "2. Y que es lo que te decepciona de la CC??\n",
      "3. Le recuerdo que la pareja de Medel es Española.\n",
      "4. Es decir, no lo harán, te recuerdo que en campaña era una de las prioridades de Boric \n",
      "5. , para recuerdes parece que la memoria te está fallando!.\n",
      "6. A mi no me da lo mismos...y te recuerdo que voto.\n",
      "7. No tienes idea de lo que hablas pelmazo ql\n",
      "8. Se supone que es parte de lo que tienen que hacer?? O me equivoco??\n",
      "9. No es peor de lo que hacen los zurdos.\n",
      "10. ¡Hey! ¡Te recuerdo lo que me solicitaste!\n",
      "\n",
      "11. Es hora de que dejes de twittear y hagas la pega\n",
      "12. La esperanza de rechazar es lo último que perderemos.\n",
      "13. Tu lo que menos tienes es conciencia de lo que hablas\n",
      "14. Es hora de que les reviente a todos ustedes progres de mierda\n",
      "15. Y para que te acuerdas de mierdas 💩\n",
      "16. di la verdad lo que te molesta es los derechos de agua\n",
      "17. Señora deje de teñirse que le hace mal\n",
      "18. eso es mas de lo que merecen ustedes.\n",
      "19. Lo que leí, hasta ahora es pura mierda\n",
      "20. Hey 👋 ¡Ya es hora de que te recuerde lo que me has pedido!\n",
      "\n",
      "\n",
      "21. Mmmm ya te vimos , ahora deja de hacer lo que no sabes hacer\n",
      "22. Para que lo recuerden todos\n",
      "23. No me lo recuerde x favor\n",
      "24. Por lo menos ahora se habla de temas que antes estaban escondidos.\n",
      "25. Era el bloque al que le tenia mas fé, me siento como ese meme lo que pedi vs lo que recibí...\n",
      "26. Que se cree este gallo venir a decirnos que tenemos que hacer. Que recuerde que más de la mitad no lo quiere\n",
      "27. Ya es hora de que la galán entienda que trabajando se logra todo.\n",
      "28. Hey 👋 ¡Ya es hora de que te recuerde lo que me has pedido!\n",
      "\n",
      "\n",
      "29. De acuerdo, temas importantes de los que me parece que se habla poco.\n",
      "30. Sra está peor de lo que parece\n",
      "31. Que pena en lo que te has convertido, renato.\n",
      "32. Ya es hora de que alguien tome el mando del país !!!\n",
      "33. Disfruta lo que te queda de fuero\n",
      "34. ¿No te parece que ya es hora de hablar con las FF.AA?\n",
      "35. Hola diablo te recuerdas de ese nombre\n",
      "36. Qué parte dirías que es mentira de lo que dijo  ?\n",
      "37. Menos de lo que tu te has gastado en copete.\n",
      "38. ❤️ un honor que me recuerde  y que mi poema sirva de algún modo!\n",
      "39. Deja el pasado … o quieres que te recuerde las colas para conseguir comida de allende ? 🤡😘\n",
      "40. Pelota cara de raja, tú que lo único que has hecho es mentir, chanta de mierda,\n",
      "41. Ya es hora de que te vayas a descansar al ataúd.\n",
      "42. Cualquier cosa es mejor de lo que hay\n",
      "43. Es hora de que dejen de hacer lo que quieren.Esan en chile\n",
      "44. A que hora es para perdérmelo?\n",
      "45. dejate de mentir que es a lo unico que te dedicas!\n",
      "46. ¡Hey! ¡Te recuerdo lo que me solicitaste!\n",
      "\n",
      "\n",
      "47. Ni lo que reza oiria de este pedofilo\n",
      "48. Creo que ya es hora de alguna terapia de schok\n",
      "49. El 99% de lo que hablas es mentira.\n",
      "50. Eso es mucho más de lo que has hecho en la cc\n",
      "51. ¡Hey! ¡Te recuerdo lo que me solicitaste!\n",
      "\n",
      "\n",
      "52. devuelve lo que te robaste, chanta de mierda\n",
      "53. Le recuerdo que usted es parte de la convención\n",
      "54. No, nada de lo que te inventaste es real.\n",
      "55. No han dado nada de lo que se les ha pedido.\n"
     ]
    }
   ],
   "source": [
    "similar_tweets = get_similar_tweets(big_tweets, print_it=True)"
   ]
  },
  {
   "cell_type": "markdown",
   "metadata": {},
   "source": [
    "Y lo guardamos en csv."
   ]
  },
  {
   "cell_type": "code",
   "execution_count": 184,
   "metadata": {},
   "outputs": [],
   "source": [
    "save_dict_to_csv(similar_tweets[1], 'tweets_similares_2')"
   ]
  },
  {
   "cell_type": "markdown",
   "metadata": {},
   "source": [
    "## Obtener personas similares"
   ]
  },
  {
   "cell_type": "markdown",
   "metadata": {},
   "source": [
    "A continuación, entregamos tres ejemplos obteniendo personas similares a un usuario dado. Primero será con uno que hayamos elegido porque tienen estilos de escritura similar, el segundo será uno que elegimos por su contenido similar, y el otro será al azar.\n",
    "\n",
    "Buscamos usuarios similares a \"jnfernandez\" utilizando la función ya discutida \"get_similar_users\"."
   ]
  },
  {
   "cell_type": "code",
   "execution_count": 170,
   "metadata": {},
   "outputs": [],
   "source": [
    "user, users = get_similar_users(df, tweets_similares, big_tweets, 'jnfernandez')\n",
    "clear_output()"
   ]
  },
  {
   "cell_type": "markdown",
   "metadata": {},
   "source": [
    "Imprimimos los usuarios más similares a \"jnfernandez\" junto a su similaridad promedio y la cantidad de tweets similares en total."
   ]
  },
  {
   "cell_type": "code",
   "execution_count": 125,
   "metadata": {},
   "outputs": [
    {
     "name": "stdout",
     "output_type": "stream",
     "text": [
      "Los usuarios más similares a jnfernandez son\n",
      "1. pennaleon con una similaridad de 0.7000000000000001 para 10 tweets.\n",
      "2. Ninoskadamianov con una similaridad de 0.609831029185868 para 16 tweets.\n",
      "3. ChileDemocrata con una similaridad de 0.5951284861770796 para 10 tweets.\n",
      "4. SoyLaIngo con una similaridad de 0.5932539682539683 para 14 tweets.\n",
      "5. 711Diaz con una similaridad de 0.5563687724704675 para 11 tweets.\n",
      "6. santosfreaks con una similaridad de 0.5347939885173929 para 12 tweets.\n",
      "7. Nathalie_lav con una similaridad de 0.5330184435447592 para 10 tweets.\n",
      "8. PatricioOgalde5 con una similaridad de 0.5125 para 12 tweets.\n"
     ]
    }
   ],
   "source": [
    "print_similar_users(user, users)"
   ]
  },
  {
   "cell_type": "markdown",
   "metadata": {},
   "source": [
    "Mostramos el perfil del usuario con el que partimos y su usuario más \"similar\". Se puede ver que a pesar de que uno es claramente por el rechazo y el otro es del apruebo, los dos son muy agresivos en su estilo de escribir."
   ]
  },
  {
   "cell_type": "code",
   "execution_count": 146,
   "metadata": {},
   "outputs": [
    {
     "name": "stdout",
     "output_type": "stream",
     "text": [
      "Perfil del Usuario jnfernandez\n",
      "Poniendo una chaucha (10%) y te entragan una tasa de reemplazo del 30%. Q más quieres. Pura ignorancia estos.\n",
      "Uno puede seguir el juego, pero nadie espera q hagan una piñata con tu cara para hacerla tira. No sea weon!\n",
      "Y dices: Deja la pasta.  Es no cachar nada.\n",
      "Se entiende lo picante q es el mamarracho.\n",
      "Pídele a tu presidente q apoye el 100%  o  a los pasteles de la CC. Veamos si somos o no dueños... IGNORANTE!\n",
      "Esa es la pelea, lo saben y es tramposo. Ya lo hicieron para la cc.\n",
      "Ya se puso grosera y no entiendes el punto. Dije: gente fresca.\n",
      "Para q dejarlo en manos de políticos pencas??? Entiende el punto.\n",
      "Q lamentable. Algo oscuros los atrias. Arica sabe bien de \n",
      "Jajaja le acomodas el pillama? Da lo mismo.\n",
      "Te salió el cuco.\n",
      "jajajaja date cuenta.\n",
      "Debe ser los tipos más lucidos en esa wea.\n",
      "Copy paste de la venezolana.  Te faltó: en justicia.\n",
      "Q lea algo d lo q pasa en el sur y en el norte.\n",
      "Aahh pero para lo que usan piñata con la cara de otros... defiendes. Doble moral, doble discurso. Muy chanta.\n",
      "Jackson  se lo auto dona y lo publica...\n",
      "Farsante!\n",
      "Boric es funcional al PC.\n",
      "Me recuerdan a peter veneno con tantos adjetivos. Di reparto, todos al saco. Y dejen de ser unos farsantes.\n",
      "infelices...\n",
      "Plataforma del profesor q plagia contenidos y es del izq. muy cercano a boric? mmm\n",
      "Q nobleza  jajajaja... Hasta para eso son miserables.\n",
      "Pfff deberías leerte.\n",
      "Q se de una vuelta por fuera de la Muni.\n",
      "Colectivos?\n",
      "Y miente! Q te lo diga lagos y bachelet\n",
      "Las patitas d  , grita como  loco en sus intervenciones si le contradicen algo.\n",
      "Mandantes el procedimiento actual de expropiación y sales con eso. Anda leerlo para q no digas barbaridades.\n",
      "Obvio! te vieron la cara...\n",
      "Y no lo van hacer. Están atrapados, validaron la violencia y le tienen miedo a yaitul y el pc.\n",
      "Claramente, dile eso a Mister Encapuchado.\n",
      "Supuesto!!! Será a la conveniencia del estado. Te creo bien poco, lobo con piel de oveja.\n",
      "Plop!\n",
      "Stingo, córtala, deja de mentir.\n",
      "Puros artistas en ese 🎪.\n",
      "Y bastante q las usaste en el pasado. Se esperaba más d tú persona. Un fiasco.\n",
      "Un copy / paste picante...\n",
      "Quizás, ya que la prensa chilena es comparsa de es mamaracho...\n",
      "Rechazo ese mamarracho.\n",
      "\"abusa del conocimiento que dice manejar para manipular a su audiencia\" ES TU TECNICA ATRIA. Pura retorica.\n",
      "Una locura el mamarracho...\n",
      "Espero q gane el rechazo y q tú dejes d vivir a costa del pueblo.\n",
      "Atria sigue sin poder defender el artículo, q es bien malito.\n",
      "bananero, mamagüevo todas esos \"términos\" para el  \n",
      "bananero, mamagüevo todos esos \"términos\" para el  \n",
      "\n",
      "Todo cocinado?\n",
      "Paso 4 si es rechazada por sobre del 60% (acto democrático). Dejarían de quemar?\n",
      "Hablas de stingo?\n",
      "jajajaja como su hubiera una diferencia.\n",
      "Oiga, no se humille...\n",
      "jajaja me encanta tú desesperación... espero q algún día, dejes de vivir del dinero d todos los Chilenos.\n",
      "Da lo mismo, tal como lo están dejando. Dejaron la puerta abierta para los populistas. Un desastre!\n",
      "La propiedad sigue siendo del estado. Q no entiendes?\n",
      "Y Stingo le pagó a sus trabajadores?\n",
      "Usatedes son la isla de la fantasía...\n",
      "Ahora estás leyendo soberbio. Bajaste del olímpico?\n",
      "Le estás picando ají a los seguidores del mesías 😂😂😂. Así con la hipocresía...\n",
      "Increíble! tanto odio y fanatismo por acá.\n",
      "\"Dejémonos de hablar wevadas por favor.\" AUTO - APLICALO xfa...\n",
      "Literal... \n",
      "Pero dejarnos más divididos imposible. Y lo lograron. Q bochorno.\n",
      "Pfff... ahora es héroe nacional?\n",
      "Trabaja,  solo eso. Cara de palo!\n",
      "Q bueno q sigas pensando webadas. Así se termina de caer el mamarracho.\n",
      "Te entró el terror comunista?\n",
      "Supongamos q se quieran cambiar los escaños reservados o los privilegios sobre los recursos naturales?\n",
      "Te gusta la chanchada... súper digno.\n",
      "El estado...\n",
      "jajajajajajaja\n",
      "- - - - - - - - - - - - - - - - - - - - - - - - - - - - - - \n",
      "Perfil del Usuario pennaleon\n",
      "Loca!!!! Que manera de mentir, el perder los desquicio.\n",
      "Que se junte con la Daza, y la Mathei para la gira , no convocan ni a un gato. Se tiene fe la  jajajajajaja\n",
      "En septiembre llega la primavera, y florecen con fuerza, además somos arboles perennes, jajajajajajajaja🌲🌲🌲🌲🌲🌲🌲\n",
      "Esta es la Derecha admiradora de la Cubillos y Piñera.\n",
      "Entonces en vez de andar criticando trabajé!\n",
      "No tiene nada de malo, a qué le tiene miedo usted.\n",
      "Apoyo\n",
      "Lo hizo muy bien, clara en su exposición 👏👏👏👏👏\n",
      "Jajajajajaja no podía faltar el comentario de Felipin\n",
      "jajajajajajajaja\n",
      "No lo había gracias lo voy a difundir.\n",
      "Patético es desinformar y mentir. Aplaudo esta información\n",
      "Delirante\n",
      "Tanto te cuesta entender cómo opera la Democracia. Y... quien es la centro izquierda?\n",
      "Sin poder judicial? Tenga un poquito de vergüenza , por último respete que estamos en Semana Santa!\n",
      "En la Católica , que le parece.\n",
      "Aaaa y para qué decir el sinverguenza del canciller.\n",
      "Mira  este es un ejemplo de como debe funcionar la política exterior. Seguimos 🌳\n",
      "Jajajajajaja\n",
      "Y sigue .... el nuevo Felipe Kast\n",
      "Cuento aparte, llega a su casa y sigue trasmitiendo y haciendo videos, como tan pegado jajajajajaja\n",
      "Jajajajajaja\n",
      "Porque?\n",
      "Que alguien le avise que las AFP  se le adelantaron y ya nos expropiaron/robaron  los fondos .\n",
      "Paso.\n",
      "Ya te pusiste pesado!!!!!!\n",
      "Usted tiene estudios? no parece\n",
      "Entre locos se entienden\n",
      "De cuando acá, usted le tiene tanta fe las encuestas.\n",
      "Nadie le aviso a usted que las AFP hace rato que nos expropiaron los fondos .\n",
      "Siempre lo he encontrado raro\n",
      "Bienvenida la cuenta pública Presidente Boric el 1 de Julio, será hermoso.\n",
      "Porque la Daza anda paseándose todavía ?\n",
      "Grande Atria, lo aplaudo 👏👏👏👏👏👏👏👏👏👏👏👏\n",
      "Este quedó herido de gravedad cuando su partido le quitó el piso.\n",
      "De donde saca estas fotos y videos?\n",
      "Rasgando vestiduras\n",
      "Porque coloca dirigido por el convencional? yo no lo veo ahí .\n",
      "Ya las ofreció , en todo caso sus hijas son adultas.\n",
      "Mire  lo comparan con la Marinovic, ahora entiendo porque le tienen tanta mala .\n",
      "Sin comentarios\n",
      "La Cubilllos dedicada a limpiar el piso de la “Marquesa” puede haber algo más patético.\n",
      "Lo increíble es que no me di cuenta del tiempo, eso es un gran logro.\n",
      "Jajajajajaja que distorsión de la realidad.\n",
      "Mujer enferma.\n",
      "Ese el problema que tienen no escuchan, entonces después dicen “ no lo vi venir”  \n",
      "Jajajajajajaja 😂hasta los panelistas se rieron.\n",
      "Su comentario no medita respuesta , el nivel  de la rendición de la cuenta pública , habla por si sola.\n",
      "A esto se refería usted señora \n",
      "Jajajajajaja\n",
      "Fue su hija-adulta- y unas amigas.\n",
      "Y dale!\n",
      "Ajjjjjjj! Que egocéntrico, una lata!\n",
      "Les duele que los ciudadanos sean felices.\n",
      "Sin comentarios 🤦‍♀️\n",
      "Si uno de estos mejor va mejor con los perfiles del programa.\n",
      "En que andara  ? Después que pagamos su cuota para el nuevo trabajo que tiene.\n",
      "Excelente!!!! La pura verdad.\n",
      "Jajajajajaja\n",
      "Tendría que explicarte de nuevo? , mira a tu alrededor y te dará cuenta el porqué!\n",
      "Que tiene que ver la reineta con su comentario ?\n",
      "Nooo!  para que desgastarse y perder el tiempo con la loca de la Canelo y con usted .\n",
      "Yo también\n",
      "Mira  para que no te preocupes. Eso de la ambición por el poder le pasa a ustedes. Aprendan.\n",
      "Es inevitable , es para la risa quien lo podría tomar en serio.\n",
      "Cierto\n",
      "Jajajajajaja\n",
      "Jajajajajaja queeeeee\n",
      "👏👏👏👏👏👏\n",
      "Según el 22 %\n",
      "A quien le está tirando los palos? Diga nombre y apellido . Por último el profesor , sus razones tendrá. Envidioso.\n",
      "Jajajajajaja\n",
      "Jajajajajaja es patético\n",
      "Ooooo!!!! Que sorpresa nunca la Derecha a través de la Historia de Chile a abogado por los desechos de los pueblos indígenas.\n",
      "No todo se trata de usted.\n",
      "Ya te dijeron,es mentira !\n",
      "No fue!!!! No creo que lo echen de menos\n",
      "Entonces aprobamos !\n",
      "La loca de la Tere? Jajajajajaja\n",
      "Porque no?\n",
      "y su ética donde está? A lo que lleva el fanatismo.\n",
      "Jajajajajaja\n",
      "Jajajajajaja saltó el maní.\n",
      "Noooooooooooooooooo!!\n",
      "Usted ha tenido trato directo con Felipe Kast ?puede que se haya contagiado , revísese por si acaso .\n",
      "Jajajajajaja me gusta su perseverancia! Aunque sea en la mentira camuflada.\n",
      "Esta es la gurú de la \n",
      "Quien dice que es la mayoría de los chilenos? Porque se habla en nombre de los ciudadanos?\n",
      "Y pensar que le pagamos a la parejita de  y  para que se consiguieran esa peguita. Sinverguenzas!!!!\n",
      "Ni el más mínimo escrúpulo para mentir, cuanta miseria. Fue invitado por un convencional no es invitado de honor.\n",
      "Seguiría siendo el 20%\n",
      "Eso depende a qué le llama usted inteligencia.\n",
      "Iba a pasar de largo pero no pude evitar reine de tanta tontera que habla \n",
      "Como les duele!!!! Vamos bien entonces #AprueboPlebicitoDeSalida\n",
      "Como si hubiéramos podido elegir alguna vez!!\n",
      "🤦‍♀️Mi Dios!!!!  Esto es fanatismo puro.\n",
      "Jajajajajaja hay que ver que ordinaria es la Derecha.\n",
      "Jajajajajaja no creo!!! Y si viene de usted la consideración creo que suma puntos.\n",
      "Tenga cuidado no sea que termine como Tomas Jocelyn Holt.\n",
      "Este video no está completo ojo!\n",
      "Estaba ocupada defendiendo el franquismo. Del cual su familia formó parte. Son de la misma calaña.\n",
      "La Marquesa hablando de plurinacionalidad, de verdad la Derecha nos tiene por estupidos.\n",
      "Tal cual esta es la Derecha que grita libertad de expresión!!!!\n",
      "Jajajajajaja hay que estar muy carente para creerle a   !!!!\n",
      "Defendiendo a la Marqueza!!!! que  viene a educar a los indios, tenga más dignidad.\n",
      "Estudia Derecho de nuevo!\n",
      "No entendí nada porque hablo ella sola\n",
      "Sin argumento , su respuesta es solo reactiva y visceral, fue muy  buena la cuenta pública.\n",
      "Locura! La suya\n",
      "Bueno el Photoshop jajajajajaja hasta en las fotos es falsa la \n",
      "Jajajajajaja no hay vuelta atrás, si los dinosaurios se extinguieron, imagínese!\n",
      "Jajajajajaja delirantes . Que locura! no tienen límites para mentir.\n",
      "Yo le creo a personas como Roberto Celedon. Toda mi confianza allí puesta.\n",
      "Jajajajajaja\n",
      "Jajajajajaja\n",
      "🤦‍♀️\n",
      "Hay que estar muy desesperada para re twittear a  jajajajajaja\n"
     ]
    }
   ],
   "source": [
    "show_similar_pair(user, list(users.keys())[0])"
   ]
  },
  {
   "cell_type": "markdown",
   "metadata": {},
   "source": [
    "Buscamos usuarios similares a \"CarlosEsDelAlbo\" utilizando la función ya discutida \"get_similar_users\"."
   ]
  },
  {
   "cell_type": "code",
   "execution_count": 171,
   "metadata": {},
   "outputs": [],
   "source": [
    "user, users = get_similar_users(df, tweets_similares, big_tweets, 'CarlosEsDelAlbo')\n",
    "clear_output()"
   ]
  },
  {
   "cell_type": "markdown",
   "metadata": {},
   "source": [
    "Imprimimos los usuarios más similares a \"jnfernandez\" junto a su similaridad promedio y la cantidad de tweets similares en total."
   ]
  },
  {
   "cell_type": "code",
   "execution_count": 173,
   "metadata": {},
   "outputs": [
    {
     "name": "stdout",
     "output_type": "stream",
     "text": [
      "Los usuarios más similares a CarlosEsDelAlbo son\n",
      "1. EsVictorHugo con una similaridad de 0.887719298245614 para 14 tweets.\n",
      "2. LorenaTzoc con una similaridad de 0.845022624434389 para 26 tweets.\n",
      "3. vrojas007 con una similaridad de 0.80344409027979 para 30 tweets.\n",
      "4. Paomotion con una similaridad de 0.7493578723834563 para 10 tweets.\n",
      "5. AlvaroBots_ con una similaridad de 0.7455341650830373 para 14 tweets.\n",
      "6. soniadederecha con una similaridad de 0.7373641278303645 para 58 tweets.\n",
      "7. LourdesGavar con una similaridad de 0.7333333333333334 para 10 tweets.\n",
      "8. bybleanstartup con una similaridad de 0.73306887770365 para 41 tweets.\n",
      "9. fgb_sw con una similaridad de 0.730786886807141 para 14 tweets.\n",
      "10. rodvalpablo con una similaridad de 0.7267904509283819 para 12 tweets.\n",
      "11. Jo5836613057 con una similaridad de 0.7059702554614673 para 12 tweets.\n",
      "12. AngelDLaCruz_ con una similaridad de 0.6953763671717832 para 18 tweets.\n",
      "13. SuknoR con una similaridad de 0.6931773879142301 para 10 tweets.\n",
      "14. PATEFUE con una similaridad de 0.6844099794594846 para 11 tweets.\n",
      "15. monicanavarrob con una similaridad de 0.6686931741700214 para 34 tweets.\n",
      "16. Adanjulio2012 con una similaridad de 0.6679137439428388 para 32 tweets.\n",
      "17. GaldamesMonica con una similaridad de 0.6663255196606611 para 28 tweets.\n",
      "18. Pame4378 con una similaridad de 0.6587301587301587 para 14 tweets.\n",
      "19. ftaladriz con una similaridad de 0.6560271646859084 para 10 tweets.\n",
      "20. jp_stg_cl con una similaridad de 0.652594728723761 para 10 tweets.\n",
      "21. cahp71 con una similaridad de 0.6518181818181813 para 76 tweets.\n",
      "22. Chileno_Rockero con una similaridad de 0.6461538461538462 para 10 tweets.\n",
      "23. chileno_solo con una similaridad de 0.642857142857143 para 10 tweets.\n",
      "24. Cris__chile con una similaridad de 0.6346940358348186 para 40 tweets.\n",
      "25. ACR8667 con una similaridad de 0.6344129643062315 para 29 tweets.\n",
      "26. petereta69 con una similaridad de 0.6305522208883554 para 14 tweets.\n",
      "27. monroeyfrida con una similaridad de 0.6265001718409898 para 14 tweets.\n",
      "28. ogym21 con una similaridad de 0.6256886894248724 para 98 tweets.\n",
      "29. CelesteStrau con una similaridad de 0.620580808080808 para 16 tweets.\n",
      "30. Natu_gs con una similaridad de 0.6199619632132009 para 72 tweets.\n",
      "31. Baldito_28 con una similaridad de 0.6198856457489276 para 27 tweets.\n",
      "32. pantrotigro con una similaridad de 0.6152271916777253 para 116 tweets.\n",
      "33. Asantis70 con una similaridad de 0.6118260581247837 para 10 tweets.\n",
      "34. SolZophie con una similaridad de 0.6109231134314191 para 14 tweets.\n",
      "35. AnriquezJara con una similaridad de 0.61079980402995 para 30 tweets.\n",
      "36. MateolivaOliva con una similaridad de 0.6078042328042328 para 24 tweets.\n",
      "37. Anitace con una similaridad de 0.6074460883229541 para 12 tweets.\n",
      "38. Gonzo35974897 con una similaridad de 0.6071255788236921 para 14 tweets.\n",
      "39. fcojcornejo con una similaridad de 0.6042120756074244 para 18 tweets.\n",
      "40. AndrewROpinante con una similaridad de 0.6042016677318705 para 14 tweets.\n",
      "41. tichecha con una similaridad de 0.6038580772488714 para 14 tweets.\n",
      "42. chinoani con una similaridad de 0.6008104298801973 para 14 tweets.\n",
      "43. JORGE_KATANA con una similaridad de 0.5987727752183288 para 30 tweets.\n",
      "44. the_hnp con una similaridad de 0.5938086326557505 para 21 tweets.\n",
      "45. moalur con una similaridad de 0.592112710550238 para 43 tweets.\n",
      "46. LobosDrago con una similaridad de 0.5900383141762453 para 12 tweets.\n",
      "47. Rosario77488957 con una similaridad de 0.5890912651782217 para 12 tweets.\n",
      "48. Chuncho54 con una similaridad de 0.5880919791521882 para 68 tweets.\n",
      "49. FranciscoCuent4 con una similaridad de 0.5861781076066788 para 44 tweets.\n",
      "50. mptellechea con una similaridad de 0.5857821318857601 para 22 tweets.\n",
      "51. PiolaBajoPerfi1 con una similaridad de 0.5842760293979806 para 20 tweets.\n",
      "52. RalMuozE con una similaridad de 0.5835727088886846 para 10 tweets.\n",
      "53. AFZamorano con una similaridad de 0.580095608787169 para 13 tweets.\n",
      "54. serenitynow45 con una similaridad de 0.58 para 10 tweets.\n",
      "55. magdale86085395 con una similaridad de 0.5769637259137864 para 38 tweets.\n",
      "56. patty_alvi con una similaridad de 0.5742941970310392 para 10 tweets.\n",
      "57. jiba1971 con una similaridad de 0.574034062595747 para 18 tweets.\n",
      "58. efesios2dos con una similaridad de 0.5728758627434921 para 23 tweets.\n",
      "59. vikina con una similaridad de 0.5725203658502424 para 68 tweets.\n",
      "60. ange_sepulvedam con una similaridad de 0.5696905930948483 para 10 tweets.\n",
      "61. DGBA53 con una similaridad de 0.5676980847435394 para 22 tweets.\n",
      "62. maroespartano con una similaridad de 0.5673826862792379 para 10 tweets.\n",
      "63. porunavidalibre con una similaridad de 0.5652696217534567 para 22 tweets.\n",
      "64. RiofrioMariela con una similaridad de 0.5624586449615122 para 14 tweets.\n",
      "65. clauriv56002711 con una similaridad de 0.5593408784102798 para 58 tweets.\n",
      "66. FonolaHGV con una similaridad de 0.5576976549169482 para 60 tweets.\n",
      "67. filatelia1967 con una similaridad de 0.5556469500381218 para 30 tweets.\n",
      "68. Csrmen22887832 con una similaridad de 0.5553929249555748 para 38 tweets.\n",
      "69. eduardolirat con una similaridad de 0.555354792929152 para 32 tweets.\n",
      "70. Del44xCiento con una similaridad de 0.5553274150333956 para 15 tweets.\n",
      "71. Alejand41647081 con una similaridad de 0.5545138049323126 para 340 tweets.\n",
      "72. VFrancisca_Ch con una similaridad de 0.5496333281323138 para 10 tweets.\n",
      "73. pembry1969 con una similaridad de 0.5490397038362156 para 24 tweets.\n",
      "74. Fernand99831598 con una similaridad de 0.5483869931238353 para 10 tweets.\n",
      "75. LuisMM030407 con una similaridad de 0.5472078870496591 para 20 tweets.\n",
      "76. vivaChile22 con una similaridad de 0.5465979917701882 para 32 tweets.\n",
      "77. canaito031 con una similaridad de 0.544155918739273 para 234 tweets.\n",
      "78. nancyrodrigg con una similaridad de 0.5436471475925608 para 50 tweets.\n",
      "79. Marce5016 con una similaridad de 0.5394871794871794 para 10 tweets.\n",
      "80. carmenle169 con una similaridad de 0.539178871645442 para 31 tweets.\n",
      "81. Cristia27505365 con una similaridad de 0.5391294277329589 para 12 tweets.\n",
      "82. DanyG94946959 con una similaridad de 0.5386819670811417 para 14 tweets.\n",
      "83. DorisDi050664 con una similaridad de 0.5381027302653235 para 28 tweets.\n",
      "84. 007Artemisa con una similaridad de 0.5374661463331415 para 11 tweets.\n",
      "85. eccpatriota con una similaridad de 0.5345452485291912 para 12 tweets.\n",
      "86. Sam49976234 con una similaridad de 0.5340012072951632 para 20 tweets.\n",
      "87. fj_cancino con una similaridad de 0.5326951584509907 para 58 tweets.\n",
      "88. GuzmanLlabur con una similaridad de 0.5319029865361492 para 30 tweets.\n",
      "89. Caro89828340 con una similaridad de 0.5302096188284177 para 23 tweets.\n",
      "90. Rodry_alonso con una similaridad de 0.5294399181469558 para 13 tweets.\n",
      "91. pabloognob con una similaridad de 0.5237572074177965 para 20 tweets.\n",
      "92. AndreaLaCoss con una similaridad de 0.5215482121485628 para 14 tweets.\n",
      "93. Jose57278232 con una similaridad de 0.521264436859788 para 16 tweets.\n",
      "94. mairicio con una similaridad de 0.5200306971579584 para 22 tweets.\n",
      "95. bconaaa con una similaridad de 0.5200022793299938 para 25 tweets.\n",
      "96. Gusrichtig con una similaridad de 0.5197407666369764 para 50 tweets.\n",
      "97. michelan195 con una similaridad de 0.519168619907859 para 64 tweets.\n",
      "98. Jaime96413333 con una similaridad de 0.5174357081333825 para 18 tweets.\n",
      "99. MarCe_0018 con una similaridad de 0.516689550134443 para 14 tweets.\n",
      "100. karinsoti con una similaridad de 0.5159868236613401 para 12 tweets.\n",
      "101. AtreidesDemian con una similaridad de 0.5132138585070992 para 26 tweets.\n",
      "102. Amy03898327 con una similaridad de 0.5120510648552096 para 137 tweets.\n",
      "103. csepulvedatoro con una similaridad de 0.5120333265359058 para 20 tweets.\n",
      "104. oscarro79128904 con una similaridad de 0.5108883850286484 para 111 tweets.\n",
      "105. TigreRockero2 con una similaridad de 0.5091937025930099 para 54 tweets.\n",
      "106. alexvotakast con una similaridad de 0.5076810268363109 para 16 tweets.\n",
      "107. Isitacake con una similaridad de 0.5075072463768117 para 10 tweets.\n",
      "108. YDchileM con una similaridad de 0.5073565149623718 para 52 tweets.\n",
      "109. ccgrum con una similaridad de 0.5072242913502916 para 16 tweets.\n",
      "110. samukeitor98 con una similaridad de 0.5061163138793252 para 36 tweets.\n",
      "111. ayala_rodolfo con una similaridad de 0.5054780905081303 para 60 tweets.\n",
      "112. NathalyLarsen con una similaridad de 0.5050778803773359 para 20 tweets.\n",
      "113. fn19100 con una similaridad de 0.5048423062131349 para 32 tweets.\n",
      "114. hrng777 con una similaridad de 0.5041221486877128 para 14 tweets.\n",
      "115. Simplem77833982 con una similaridad de 0.5039191529031136 para 14 tweets.\n",
      "116. libertariochi con una similaridad de 0.5037657361795292 para 12 tweets.\n",
      "117. edgardohapke con una similaridad de 0.5020646428235168 para 22 tweets.\n",
      "118. RUBEN_ANTIYAL con una similaridad de 0.5020518328789005 para 20 tweets.\n",
      "119. Deberpatriota con una similaridad de 0.5008266850496951 para 12 tweets.\n",
      "120. IsabelV36842300 con una similaridad de 0.5001586518419888 para 40 tweets.\n"
     ]
    }
   ],
   "source": [
    "print_similar_users(user, users)"
   ]
  },
  {
   "cell_type": "markdown",
   "metadata": {},
   "source": [
    "Mostramos el perfil del usuario con el que partimos y su usuario más \"similar\". Se puede ver que ambos tienen contenido similar del Rechazo."
   ]
  },
  {
   "cell_type": "code",
   "execution_count": 174,
   "metadata": {},
   "outputs": [
    {
     "name": "stdout",
     "output_type": "stream",
     "text": [
      "Perfil del Usuario CarlosEsDelAlbo\n",
      "El vuelo nunca fuea brea culiao\n",
      "Lo de la libertad pasó piola, se mandó dos cagazos en una frase de 1 minuto\n",
      "Pero si Lagos ya lo dijo, si gana rechazo sigue la constitución que hizo él\n",
      "Puras felicitaciones, como decía Mañalich hajajaj\n",
      "Tenía que salir una defensora de los narcos del sur\n",
      "Y lo malo es que no le pasará nada, Adrian tiene mucha influencia desde el gobierno de Bachelet\n",
      "Se debe ir a la chucha, mínimo, pero primero acusación constitucional\n",
      "Se quedó callado el zurdo\n",
      "El que lo necesita es porque no se sacó debidamente la chucha trabajando\n",
      "Con los impuestos se financia a cada vago del congreso y la moneda, tampoco deberíamos pagarlos\n",
      "Aunque te duela el hoyo vieja culia \n",
      "Tiene razón y eso que voy por el Rechazo, si se aprueba el Mamarracho deben haber elecciones nuevas\n",
      "Si como se regula hasta ahora por el norte\n",
      "Dile a los borrachos pasteros de la convención que dejen de hacerse autogoles, #ElRechazoCrece\n",
      "Es el pelao culiao de las series\n",
      "Le dan hasta órdenes al mechero con TOC \n",
      "Te pillaron pelao \n",
      "Por si no sabes lo dona, costal de weas\n",
      "No somos México y ojalá nunca lleguemos a serlo\n",
      "La wea que menos importa es esa\n",
      "Y lo malo es que no le pasará nada, Atria tiene mucha influencia desde el gobierno de Bachelet\n",
      "Pluriphone 13 #iPhone13  \n",
      "Anda a jugar PES vo nomas\n",
      "Portadas que no envejecen\n",
      "Ya llegó un familiar del pelao  ?\n",
      "#RechazoElMamarracho\n",
      "Jueron loh pakoh\n",
      "#RechazoElMamarracho\n",
      "No es gobierno te están diciendo matewea\n",
      "Que sería periodismo de calidad? Que no se les critique a estos mateweas?\n",
      "Deja imprimirlo pa ir a limpiarme el poto\n",
      "Incluso más que Kast que se nos está poniendo amarillo\n",
      "Te queda poco vieja del orto, aprovecha estos meses de fama\n",
      "Jajajaja mechero culiao\n",
      "¿Quieren cajitas feliz los weones?\n",
      "Díganle a esta vieja culia que se hacen mala propaganda solos los chuchesumares de la Convención\n",
      "No debe pensar si votó por Boric\n",
      "Que vayan a votar el 4 de septiembre rechazo y se acaba la wea\n",
      "Se viene el rechazo zurdos infelices\n",
      "Como lo dice la bandera de la portada,   partieron a Chile en pedacitos\n",
      "Yo quiero isapre, ni cagando me atenderla en un cesfam\n",
      "El weon de arriba compra guaguas\n",
      "Los vagos culiaos de la confusam estarían en su salsa\n",
      "Porque quieren eliminar las isapres matewea, quieren que todos estemos en esa caga de fonasa\n",
      "Cagó el mechero\n",
      "- - - - - - - - - - - - - - - - - - - - - - - - - - - - - - \n",
      "Perfil del Usuario EsVictorHugo\n",
      "#RechazoElMamarracho\n",
      "#Taradit se supera a sí mismo.\n",
      "Es un asco. #RechazoElMamarracho\n",
      "Que personalidad para mostrar su pobreza cognitiva!\n",
      "#RechazoElMamarracho\n",
      "#RecuentoParaleloAServel\n",
      "Otra que no entiende lo que lee.\n",
      "La Ministra del interior se saca selfis cosechando naranjas en su predio.\n",
      "¿Dónde se puede ver el discurso que hizo Rocío Cantuarias? Hoy lo mostraron en Emol. \n",
      "#RechazoElMamarracho\n",
      "Taradit en su mejor alucinación.\n",
      "Lo dicho por Taradit es Falso.\n",
      "#RechazoElMamarracho.\n",
      "#RechazoElMamarracho\n",
      "#RechazoElMamarracho \n",
      "#RechazoCrece\n",
      "Antes los considerábamos pelotudos, pero hora  se ganaron la denominación: Pluripelotudos\n"
     ]
    }
   ],
   "source": [
    "show_similar_pair(user, list(users.keys())[0])"
   ]
  },
  {
   "cell_type": "markdown",
   "metadata": {},
   "source": [
    "Buscamos usuarios similares a un usuario generado al azar utilizando la función ya discutida \"get_similar_users\"."
   ]
  },
  {
   "cell_type": "code",
   "execution_count": 185,
   "metadata": {},
   "outputs": [],
   "source": [
    "user, users = get_similar_users(df, tweets_similares, big_tweets)\n",
    "clear_output()"
   ]
  },
  {
   "cell_type": "markdown",
   "metadata": {},
   "source": [
    "Imprimimos los usuarios más similares a este usuario al azar junto a su similaridad promedio y la cantidad de tweets similares en total."
   ]
  },
  {
   "cell_type": "code",
   "execution_count": 186,
   "metadata": {},
   "outputs": [
    {
     "name": "stdout",
     "output_type": "stream",
     "text": [
      "Los usuarios más similares a lorenzojavier7 son\n",
      "1. ONJ999 con una similaridad de 1.0 para 14 tweets.\n",
      "2. GabrielRuizT con una similaridad de 1.0 para 11 tweets.\n",
      "3. CoachRVargasV con una similaridad de 1.0 para 10 tweets.\n",
      "4. Alejand81158101 con una similaridad de 1.0 para 10 tweets.\n",
      "5. Alvar38065484 con una similaridad de 0.9666666666666667 para 15 tweets.\n",
      "6. manuelsoteldo4 con una similaridad de 0.9013238916256158 para 16 tweets.\n",
      "7. AprendizCrypto con una similaridad de 0.8547619047619047 para 10 tweets.\n",
      "8. VeneciaSU con una similaridad de 0.8496376811594203 para 12 tweets.\n",
      "9. albert_1917 con una similaridad de 0.8263888888888888 para 12 tweets.\n",
      "10. Mister_Wolf_0 con una similaridad de 0.75 para 11 tweets.\n",
      "11. JorgeMi62044105 con una similaridad de 0.7015873015873015 para 36 tweets.\n",
      "12. volffit con una similaridad de 0.6862369337979095 para 10 tweets.\n",
      "13. MarcelaBH201 con una similaridad de 0.5339602925809822 para 11 tweets.\n"
     ]
    }
   ],
   "source": [
    "print_similar_users(user, users)"
   ]
  },
  {
   "cell_type": "markdown",
   "metadata": {},
   "source": [
    "Mostramos el perfil del usuario con el que partimos y su usuario más \"similar\"."
   ]
  },
  {
   "cell_type": "code",
   "execution_count": 187,
   "metadata": {},
   "outputs": [
    {
     "name": "stdout",
     "output_type": "stream",
     "text": [
      "Perfil del Usuario lorenzojavier7\n",
      "Maravillosa respuesta\n",
      "En Chile hay gente armada que asesina Chilenos de ascendencia mapuche impunemente. \n",
      "Y a los asesores sin límite de remuneración\n",
      "Que derecho tiene para ley de amarre. NINGUNO\n",
      "Dictadura encubierta\n",
      "Que los juzguen\n",
      "Y someter por la sed a cualquier usuario\n",
      "La maquina ideológica totalitaria es  previa y la amenaza de inestabilidad si gana rechazo que es? 🤔\n",
      "Pero si el Estado no es un producto Machista HeteroPatriarcal. ¿ Y quiere más Estado? Algo no cuadra. \n",
      "Cuanta soberbia y fakenews aquí la avidez por los ahorros de los trabajadores \n",
      "Eso no es educación es adoctrinamiento o como se decía en regímenes totalitarios reeducacion.\n",
      "Siempre el empate, se supone que ellos iban a renovar la política...\n",
      "Yaaa lo que el mundo quiere abandonar es rl esquema ponzi del reparto\n",
      "No es más que obsesión por la verdad y no por eufemismos y medias mentiras\n",
      "Y los desorbitados gastos de Punlicidad $1.300 millones y para IFE no hay \n",
      "Se omiten tantas cosas y los $1.300 millones para publicidad \n",
      "Gran valor  hay que tener valor, para ser tan claro y directo. Me pongo de pie\n",
      "Es solo una acto de propaganda.pura pantalla dicen. \n",
      "La verdad \n",
      "En Junio de 2021. Pasaban cosas en el sur. \n",
      "Con $1.300 millones en publicidad se nota la preocupación por los pobres. \n",
      "Pero los cobros en escuelas por las charlas son en dinero muy real. Como decía la canción quiere dineroooooo\n",
      "Se me complica escribir la cifra $1.300 millones de publicidad.\n",
      "La Constitución desde Siglo XII era para contener al Estado, al Gobernabte y dolo se les ocurre aumentar el Estado. Genios.\n",
      "¿Por que son necesarios $400.000.000 para publicidad?\n",
      "😂😂😂\n",
      "No fue lo que se aprecia en videos del aeropuerto.\n",
      "Vivan los gastos en publicidad $1.300.000 menos para los más pobres. \n",
      "Se hace campaña con $1.300 millones. Del fisco, menos para gasto en los más pobres \n",
      "Esa es mi playa no la de torpes iluminados. \n",
      "Más racionalidad y realismo en la constitución. Garantías reales y no fantasías ideológicas\n",
      "- - - - - - - - - - - - - - - - - - - - - - - - - - - - - - \n",
      "Perfil del Usuario ONJ999\n",
      "Uuuu se van a estresar pobrecitos!!\n",
      "La opinión de un estadista y un hombre con sabiduría política \n",
      "Que intelectual!\n",
      "Cada senador representa alguna región hasta donde conozco. Cual sería la diferencia??\n",
      "Una cámara regional que nadie sabe qué atribuciones va a tener!!?😳\n",
      "Jajajajajajajajaja!!!! \n",
      "Me parece excelente y no acaba de pasar, sino que siempre ha sido así, desde que Chile es Chile 🇨🇱🇨🇱🇨🇱\n",
      "Y te acuerdas quien vendió el agua en Stgo??!\n",
      "Gaseoso también?? Propiedad de las nubes??\n",
      "Siempre lo han sido!!!\n",
      "Un estado “ social” no garantiza nada solo “acompaña”. Debió ser estado “ garante”\n",
      "Esto me valió el bloqueo de una de tus honorables constituyentes. \n",
      "Que se quede en borrador el mamarracho chavista.\n",
      "Está con la “ duerman tranquilos cualquier cosa les aviso” 😂😂😂😂😂😂😂\n",
      "Seguro entregarán proyectos gratis al gobierno ! 😂😂😂😂😂\n",
      "Pinochet vaticinó que Chile en este siglo caeria en manos del comunusmo y el narcotrafico.!!\n",
      "Predijo que en el 2022 su país estaría sumido en la más patética de las miserias?? \n",
      "Fue redactada por equipo jurídico de alto nivel, no como Uds obviamente.\n",
      "Que ASCO!!!!\n",
      "Te has escuchado???!!  Que nivel!! Creo que tu lugar no es una convención constituyente! Quizás un Reality juvenil\n",
      "Chilenismo !!!!\n",
      "Y te parece poco lo que ocurre en Chile moscardón???\n",
      "O sea derecho a la propiedad y libertad es de dictadores!! Tendrán caca en el mate??!!\n",
      "Cual poder?! En Chile nadie manda hace rato!!\n",
      "El Senado no es el problema sino la gente poco idónea.\n",
      "Avanza como la arena del desierto \n",
      "Jajajajajaja!! Se acaba la sequía!! 😂😂😂😂😂\n",
      "Enumera las falsas!?  Te leo…\n",
      "La calaña de esta gente del gobierno y la CC \n",
      "Jajajaja y la Izkia será de derecha???? 😂😂😂😂😂😂😂😂😂😂\n",
      "Que te pareció Bassa el primer IPC de tu juvenil presidente Boric??!  1.9% 😳😳😳😳😳😳\n",
      "Y respecto de que la elección de la CC ha sido el único proceso democrático en Chile””. ??\n",
      "Obvio. Era una dictadura!!! Pero ahora supuestamente no!! O si???!\n",
      "El PC debiera ser proscrito para siempre. Que gran estadista fue Don Gabriel Gonzales Videla con su ley Bendita.\n",
      "Yo de Boric, Baradit y Baranda!\n",
      "Dos atentados hoy en Lumaco por terroristas. A ese daño te refieres. De derecha?? No sabía que la CAM era de derecha!!!\n",
      "Eso siempre ha sido así en democracia\n",
      "Están haciendo una constitución chavista.\n",
      "Quiero saber que piensas de esto??  Ya que todos sabemos cómo está Venezuela hoy. \n",
      "Mosco repugnante\n",
      "Siempre el estado ha sido laico!! 😳😳😳\n",
      "Que mala clase son!!\n",
      "Tus terroristas siguen!! \n",
      "Pobrecitos!!! Que stress!! 😂😂😂😂😂😂😂\n",
      "Otro motivó entre 499 a lo menos, para votar rechazo \n",
      "Izkia tbn aprueba!!! 😂😂😂😂😂😂😂😂😂😂\n",
      "Me das asco tu y toda la turba !!!\n",
      "Úsalo como papel higiénico!\n",
      "Crímenes??? Quien fue asesinado???\n",
      "Bastante decepcionantes tus opiniones para ser alguien que se supone de peso en la CC\n",
      "Y en qué consistiría el beneficio?? Porque no lo explicas…..😳😳😳\n",
      "No fue un error. Fue una mentira que puso  al gobierno en una muy delicada situación !!\n",
      "Campaña de la derecha?? \n",
      "Ya perdieron credibilidad total como el gobierno con Izkia.\n",
      "Como va el chavismo??!\n",
      "Que ridiculez\n",
      "Lo dice un arbolito!! \n",
      "Explícame una policía no militarizada ??!\n",
      "😳😳😳\n",
      "Siempre es posible estar más abajo\n",
      "Insulza habló pestes de la CC hoy.  Como que estamos sin rumbo.\n",
      "Hasta donde s los senadores son representantes de regiones!!?😳😳😳\n",
      "Como que no??!! Pero si rechazaron garantizar que los fondos nunca dejen de ser de los trabajadores!!!\n",
      "La turba de ultraizquierda serán el hazmereir de Chile cómo la Izkia con su Wallmapu! 😂😂😂\n",
      "Ciencia y conocimiento en la CC.  ?? Perdón pero…. 😂😂😂😂😂😂😂😂😂😂😂😂😂😂😂😂😂😂😂😂😂😂😂😂😂😂😂😂\n",
      "De la U de Chile?? No es nada de buena\n",
      "el 20% de la CC no tiene cuarto medio!!! Y que haya abogados no es garantía de nada.\n",
      "Que pelotudos!!! Estado subsidiario debe ser cambiado por estado garante!!!!!!!\n",
      "Se farrearon lo único importante que era cambiar estado subsidiario por uno garante!!! \n",
      "🤮🤮🤮\n",
      "Por decencia debieras renunciar!! Ese cumpleaños te retrato completito. Alimañas!\n",
      "Con respeto: \n",
      "😂😂😂😂😂😂😂😂😂😂😂😂😂😂😂😂😂😂😂😂😂😂😂😂😂😂😂😂\n",
      "Ninguna\n",
      "Las policías hoy no son FFAA!!! De hecho dependen del ministerio del Interior y no del de Defensa!! Fin\n",
      "No es la derecha es la nación entera de CHILE contra esta odiosa y nefasta minoría mapuche (no más del 10% de población)\n",
      "Plurinacional con menos de un 9% de pueblos aborígenes que incluso ellos mismos no dominan el Mapudungun.\n",
      "Avanza el socavamiento de los cimientos de Chile estado y nación !!\n",
      "Entre Bassa, Loncon y Stingo…anda por ahí la venta de suecos😂😂😂\n",
      "Menos en la Araucania y Colchane\n",
      "Lo crean Uds mismos. Por ejemplo con ebrios exponiendo ideas.\n",
      "En la Araucania se salvan cómo pueden ahora mismo. También en el norte grande de la lacra venezolana.\n",
      "Lista la chavista!\n",
      "😂😂😂Pero que buena descripción!! \n",
      "Yo tengo convicciones y principios   Quédate con tu borrón\n",
      "🤮🤮🤮🤮🤮🤮🤮🤮🤮\n",
      "Todos los días!! Pero tu gobierno y tu CC protege a los terroristas asesinos!\n",
      "Quédate con el borrador no más. Nunca se pasará en limpio!!! \n",
      "Cuanto se farrearon???\n",
      "Que opinas?? Te leo….. \n",
      "Vayan al Instituto Nacional y compartan  con los overoles blancos\n",
      "Ninguna propuesta ciudadana fue oída en la CC!!!!!!\n",
      "Si Piñera hubiera propuesto algo así habría habido suicidio colectivo de los zurdos!!!\n",
      "Zurdos muy weones!!!!\n",
      "Lo de vivienda es falso!! Rechazaron el derecho a propiedad de la vivienda\n",
      "Vacuna contra el comunismos. Segunda dosis recargada \n",
      "Verdad que eliminaron más de cien artículos?! O es campaña de la derecha?\n",
      "🤮🤮🤮🤮🤮🤮🤮\n",
      "😂😂😂😂😂😂😂😂😂\n",
      "Si me expropian 300 millones de la AFP me pagarán 300 millones???!! 😂😂😂😂😂😂😂😂😂RIDICULOS!!!\n",
      "Nunca entrará en vigencia\n",
      "Seguro que para entonces estuvieran promulgadas todas las nuevas leyes que la hicieran aplicable. Eso es imposible\n",
      "R E C H A Z O !!!🇨🇱🇨🇱🇨🇱\n",
      "La bancada del Rechazo es CHILE\n",
      "Toma nota!!! \n",
      "Y???\n",
      "Ejecutada claro que si!!! Cada vez que un policía dispara y mata a un delincuente lo está ejecutando y lo celebro.\n",
      "La Chavista\n",
      "Somos daneses ya!!?😳😳😂😂😂\n",
      "Se quedará como borrador no más! \n",
      "Mala salud de pésima calidad para todos. Se robarán nuestro 7%. Rechazo!!!!\n",
      "Y a Pto Montt pagarás tu propio pasaje o seguiremos pagándoles??\n",
      "Ya esto se salió de todo margen tolerable Gaspar!! \n",
      "Para que se lo muestres a tu pártner Loncon \n",
      "Uds y el actual gobierno se la pasan dando explicaciones de lo que hacen y declaran.  Muy mal síntoma!\n",
      "Quieren mantener la votación comunistoide en la región.\n",
      "Espero tu comentario. Gracias \n",
      "Cuando el gobierno deje de ocuparse de webadas…. Perdón cuando la o el gobierno…😂😂😂\n",
      "Y alguna pista respecto de deberes???\n",
      "Donde cobró mi casa??!!\n",
      "Los pilares fundamentales se forjaron con DEBERES!\n",
      "Tu presidente Merluzo \n",
      "Nunca regirá. Se Rechazará el 4 de Septiembre 🇨🇱🇨🇱🇨🇱\n",
      "No fue!! Pero lo será!!\n",
      "😂😂😂😂😂😂😂😂😂😂😂😂😂😂😂😂😂\n",
      "Ahahahahajajajaha!!!! Podremos ir a ver a un curandero!! 😂😂😂😂😂😂😂\n",
      "La voluntad popular del RECHAZO !! \n",
      "Le sucede a todo quienes trabajamos\n",
      "Tu nunca serás recordado como el!! 😂😂\n",
      "En 10 días estarán promulgadas todas las leyes que hacen vigente la nueva constitución???! Imposible!!!\n",
      "Apruebo en fotos \n",
      "Claro que no!!! Yo la comparo con Rojas Vade!!por lo chanta y picante y “popapo” como ella misma dice 😂😂😂😂😂😂😂\n",
      "Se equivoco!! Era entre el comunismo de Putin contra EuropA\n",
      "Campaña de la derecha Gaspar?? \n",
      "Tu lo admiras, como Allende y Boric ! \n",
      "Y el desprestigio viene de la derecha?? \n",
      "Poca imaginación? Uds nunca imaginaron el golpe!!😂😂😂😂y parece que piden otro.\n",
      "Por Dios que mientes bien!!!!!!\n",
      "El rechazo ganando y subiendo en todas las encuestas!!! \n",
      "En unos años te responderás tú mismo, si es que somos lo suficientemente Imbeciles para aprobar la Chavista.\n",
      "Y cuáles serían??\n",
      "Copiado al calco!!! \n",
      "Republica plurichavista inclusiva de PluriChile 😂😂😂😂😂 \n",
      "Todas\n",
      "Y cual sería??\n",
      "Siempre lo ha sido\n",
      "🤮🤮🤮👎👎👎\n",
      "CHILE es CHILE. Fin.  🇨🇱🇨🇱🇨🇱🇨🇱🇨🇱🇨🇱🇨🇱🇨🇱🇨🇱🇨🇱\n",
      "Uy!!! 11 meses recibiendo dos millones seiscientos mil pesos pagados por todos nosotros!’\n",
      "Y esto que es?? \n",
      "Clases de química en el Instituto Nacional! 😂😂😂Seguimos!! \n",
      "Que se quede en borrador\n",
      "Los atentados hoy en Lumaco están coordinados como parte de la armonización??!\n",
      "Y alguna obligación o deber??!\n",
      "Uds no han aprobado nada, solo se han puesto de acuerdo para un borrador de propuesta\n",
      "Derecho pero no propiedad de la vivienda. Siempre será del estado y te tendrán en ascuas. Se llama Comunismo por si no saben!\n",
      "Y tan caballerito que parecías!!? \n",
      "Pobreciiiiiiitos!!\n",
      "Tu presidente cagandola pa variar!!!! SDWs mundial\n",
      "Las naciones indígenas!!😂😂😂😂😂😂😂😂😂😂😂😂😂😂😂😂😂😂\n",
      "RIDÍCULA!!!\n",
      "Eso se llama anarquía legislativa. Un caos\n",
      "No debiera haber nadie menor de 40 en la CC\n",
      "Perdónalo Señor porque no sabe lo que hace.\n",
      "Adoctrinamiento comunista\n",
      "La chavista es de los comunistas chilenos solamente.\n",
      "Comisión de armonización.  Perfumando un mojon!!\n",
      "Araucania región\n",
      "Si condenas a muerte debes ejecutar a la persona po mapadre!! 😂😂😂\n",
      "Para ti y tu mente conunistoide\n",
      "Te escuchaste????!! 😳😳\n",
      "Como una puerta de limítrofe !!! Es que simplemente no lo puedo creer!!!\n",
      "Que fortaleza y paciencia de ella!!!\n",
      "Qué tal?? \n",
      "Y cuando van a La Araucania a hacer campaña por el Apruebo??  Allá los quieren y admiran harto!! 😂😂😂\n",
      "Tu crees que basta escribirlo en un papel??!\n",
      "O sea como un chalet de Ñuñoa al menos! 😂😂\n",
      "Se acabó el webeo de los UKAMAU colgando en las pasarelas??’n todos con casa desde mañana 😂😂😂😂\n",
      "Donde reclamo mi casa??\n",
      "Esa animadversión no es contra pueblos sino contra terroristas.\n",
      "El pánico no ayuda. Actuar si!🇨🇱🇨🇱🇨🇱🇨🇱🇨🇱🇨🇱🇨🇱🇨🇱\n",
      "Obviamente si no pagas tu hipoteca o arriendo o un crédito habrá un juicio!!?\n",
      "Eres un amor muy mono!!! 😂😂😂😂😂😂😉😉😉\n",
      "Nunca será publicada en el diario oficial  “Hay que extirpar el cancer marxista”\n",
      "Cuantas transitorias?? 891?! 😂😂😂\n",
      "Terroristas \n",
      "Estanos como en el lejano Oeste con los indígenas. \n",
      "Ah. Voltereta también!!!! Te acordaste que Piñera es el gestor de la convención!!!!\n",
      "Que te parece!!!!?? \n",
      "Por supuesto que se puede, si se quiere.\n",
      "La nana de Temucuicui?\n",
      "Yo desde 1948 cuando don Gabriel los dejó proscritos miserables comunistas.\n",
      "Muchos de centroizquierda también van a rechazar Incluso algunos de izquierda. Solo les queda la ultra\n",
      "El Chile del Apruebo. \n",
      "Seguro son ultra zurdas!😂😂😂\n",
      "Aunque no debe haber sido específicamente peritonitis,  ya que eso si no se opera de inmediato te mueres.\n",
      "Que opinas de esto? \n",
      "Bueno el paseo que te pagamos ah??\n",
      "Entonces la desierta de Atacama por diversidad? 😂😂😂😂😂😂😂😂😂😂\n",
      "Todos con agua gratis???!\n",
      "Yaaa??? Cuéntame cómo será???\n",
      "😂😂😂😂😂😂😂\n",
      "😂😂😂😂😂😂😂😂😂😂😂😂😂😂😳😂😳😳\n",
      "😂😂😂😂Se acabó el problema de los UKAMAU 😂😂😂😂😂😂\n",
      "Sin atribuciones!!!?\n",
      "15 años trabajé de noche 12horas diarias y ni lo publiqué ni me estrese como Uds.\n",
      "Arte comunista\n",
      "Y la izquierda es terrorista , delictual, anti patriota y concentrados en destruir los cimientos de Chile.\n",
      "Y de “naciones” indígenas!! No les da ni para pueblo!!\n",
      "Como cuál mentira?   Te leo……..\n",
      "Recta final para intentar una constitución chavista.\n",
      "Eso debe ser ley y es actualmente ley!\n",
      "Sigue marchando tontorrona!!! La educación en Chile siempre ha sido gratuita e incluso obligatoria desde el kínder!!!\n",
      "Jajajajajajajajaja son tan democraticos que emocionan!!!! 😂😂😂😂😂😂\n",
      "Ignorante!’ Exactamente homo es hoy.  Carabineros depende del Ministerio del Interior que está sin ministro por ahora!!\n",
      "Para un sistema de reparto es mandatoria la expropiación de fondos!!!?sino como????!!\n",
      "Primero fue el paro de camioneros…..luego vino el golpe de estado!!\n",
      "Que bien! Ojalá vaya creciendo es sentido común! GraciasX responder 👍👍\n",
      "Porfa dime que esto es broma!!?😳😳 \n",
      "El depravadetor Baradit que le gustan las colegialas y las ovejitas(dicho por el mismo)\n",
      "Comunista ridícula. En una de esas es hombre😳😳\n",
      "Parece que tú no conoces el texto!!\n",
      "Los mapuches nunca han sido “ originarios” sino invasores asiáticos desde Argentina \n",
      "100 dias de despelote total!\n",
      "Y esto???\n",
      "Avisa cuando lleguen a mil!!!! 😂😂😂😂😂\n",
      "Toda la vida ha existido el derecho a huelga. Infórmate ignorante!! La ley es muy clara\n",
      "Vuelve al colegio!!!!!\n",
      "Sin publicaciones de una profesional??!\n",
      "Falso todo \n",
      "Chile No es plurinacional!! Ni siquiera lo es el Reino Unido\n",
      "Las conozco de sobra y ya van como 280 artículos!!! Cuantos serán?! 489???!!😳😳😳RECHAZO\n",
      "Tu opinión?? Te leo..,,\n",
      "Pobreciiiiiiiiiiitos!!!? 😂😂😂\n",
      "Estarían de más los legisladores entonces??!\n",
      "Jajajajajajajajaja.!!!me aumento hoy kaleta la presión de agua! 😂😂😂😂😂😂😂😂😂😂😂😂\n",
      "Quien duerme con delincuentes y terroristas?? Solo otros delincuentes\n",
      "Cuando aprueban los derechos del pedofilo??   Es lo que les va faltando!\n",
      "Desquiciados enfermos mentales.\n",
      "El bodrio chavista!!! FUERA comunistas!!!\n",
      "El promedio de todas las encuestas es Apruebo 40 y Rechazo 60\n",
      "Por $2.600.000 mensual\n",
      "Democratico??!\n",
      "RECHAZO \n",
      "Ah!!! Reconoces y te disculpas porque haya sido invitado!!! Excelente aporte al RECHAZO!!!\n",
      "Cuantos invitados hay?? 300 o 400?? Y no invitaron a 4 ex presidentes por aforo!!!!!?? 😂😂😂😂😂😂😂😂😂😂\n",
      "Que se cierre para siempre. Nunca más!!!\n",
      "Borrador para borrarlas\n",
      "😂😂😂\n",
      "Eres “la presidente”.  Siempre es bueno aprender.\n",
      "Lista la Chavista para descorazonar Chile!!! RECHAZO!!!!\n",
      "Cual es tu bandera ??  Dime y te dire quien eres \n",
      "Artículo 412. Ahí sale!! 😂😂😂😂😂😂\n",
      "Por la delincuencia vandálica y el terrorismo que apoya tu inmundo gobierno\n",
      "Donde se ha colonizado con amor??!! RIDICULO!!!\n",
      "Compañeres!!?  También se te contagió la estupidez!!! Tan culta que parecías!!!\n",
      "Claro!!! Esto?? \n",
      "Uds hoy son una catástrofe!!!!!\n",
      "Jajaja claro!! Tu lo interpretas y explicas así hoy!!\n",
      "Hola Gaspar.  Por favor puedes confirmar o desmentir esto que considero aberrante?! \n",
      "Falto proceso chistoso\n",
      "Zurita otro señor senil e ingenuo\n",
      "Cuantas veces han vendido las tierras que les entregan??? \n",
      "No te da un poquito de vergüenza??!! \n",
      "Siempre ha sido así\n",
      "😂😂😂😂😂😂😂😂😂\n",
      "Lo qué hay es lo que ha permitido el desarrollo y erradicación de la pobreza hasta Octubre de 2019!!!\n",
      "🤮🤮🤮🤮🤮🤮🤮🤮🤮\n",
      "CHILE rechaza por Chile 🇨🇱 🇨🇱🇨🇱🇨🇱🇨🇱🇨🇱\n",
      "Y esto?? Es invento??\n",
      "Te has preguntado porque derecha es sinónimo de diestra e izquierda igual a siniestra??!\n",
      "Jajajajajajajajajajajajaja!!!! 😂😂😂😂😂😂😂😂😩😩😩😩😩😩😩😩😩😩\n",
      "Asesinada por delincuentes, los mismos que tú y tu nefasto partido han apoyado y defendido!!!\n",
      "Histórica ??!!\n",
      "Te ves igual a la comunista Hiraci!! 😳😳😳Son todas iguales estas minas!!!\n",
      "Da lo mismo si son amarillos azules o verdes todos RECHAZAREMOS el mamarracho chavista.\n",
      "CHIlE será una mierda de país si se aprueba el mamarracho chavista.\n",
      "Pelotudos!\n",
      "Nesecitan tratamiento sicologico muchos en tu CC Gaspar!!! \n",
      "😂😂😂😂😂😂😂😂😂😂😂😂😂😂😂😂😂😂😂😂😂eres enfermo mental!!!\n",
      "😂😂😂😂😂😂😂😂😂\n",
      "La esperanza que gane el Rechazo! 🇨🇱🇨🇱🇨🇱\n",
      "La chavista copia a la pata de la boliviana!! Que desarrollado es Bolivia!! 😂😂😂😂😂😂😂😂😂\n",
      "Propuesta chavista\n",
      "Chile es con MAYÚSCULA pendejo!!!!\n",
      "😂😂😂😂😂😂😂\n",
      "Rechazo y apruebo en una simple imagen \n",
      "Rechazo total al mamarracho chavista copiado de Bolivia y Venezuela.\n",
      "Que lograron??! 😳😳😳\n",
      "El mamarracho chavista enchulado??😂😂😂\n",
      "Que se quede en borrador no más!!!🇨🇱🇨🇱🇨🇱\n",
      "Siempre ha sido así\n",
      "Siempre ha sido así niñiiiiito!! De hecho si encuentro oro o petróleo en mi patio es del Estado!!\n",
      "Que lacras de abogados están egresando de las universidades???!!\n",
      "Hasta un delincuente podría tener jubilación digna con la plata de los que trabajan??\n",
      "Pensión vitalicia para este engendro??!\n",
      "No es terror, solo la realidad.\n",
      "😂😂😂😂\n",
      "Te estás muriendo??\n",
      "😂😂😂😂😂😂😂😂\n",
      "Menos 37\n",
      "Oye!!!!! Chile se escribe con mayúscula!!!!!\n",
      "Como en 1970?? 😂😂😂\n",
      "Desde el momento que se denomina plurinacional deja de ser único e indivisible.\n",
      "Por suerte eres experto en derecho constitucional!!😳😳😳\n",
      "Revisa esto!!!\n",
      "Netflix??!\n",
      "Inaceptable que estas turbas de Orcos se sigan concertando para dejar las cagadas!!!\n",
      "O sea todos quienes vieron destruidas sus fuentes laborales y emprendimientos que son cientos a lo largo de Chile.\n",
      "Eso es información privada!! Amerita demanda!!\n",
      "Te faltan chauchas pal peso sin duda!!! \n",
      "Todo falso y ambiguo \n",
      "Que opinas?\n",
      "Tenemos esclavitud??! 😳\n",
      "Derogar nueva constitución e caso que se apruebe!!😂\n",
      "Necesito urgentemente conocer tu opinión de esto!! No es broma es real en tu constituyente!!\n",
      "El banco central debe ser independiente y no velar por intereses del gobierno de turno.\n",
      "No pagaremos más a Aguas Andinas!!!! 😂😂😂😂😂😂\n",
      "😂😂😂😂😂😂😂😂😂quiero mis lingotes!! 😂😂😂😂😂😂😂😂😂😂😂😂😂😂😂😂😂😂😂😂\n",
      "Lápida para los comunistas!!\n",
      "Igual que los paros nacionales de Uds!😁😂 Pero la ruta 5sur está bloqueada por cien camiones en Paine y no es fake!😂\n",
      "😂😂😂😂😂😂😂😂😂\n",
      "No hay ninguna palabra!?! Lee bien!\n",
      "Repugnancias 🤮🤮🤮🤮🤮🤮🤮🤮\n",
      "Jajahahaha!! Y cuando incendiaron y quemaron Uds la ciudad que hizo??!\n",
      "😂😂😂\n",
      "No se porqué, pero leí “inicio la semana del terror” 😂😂😂😂😂😂\n",
      "Los quiero ver en Temucuicui o tampoco se atreven como Boric???!!\n",
      "No me extraña para nada. Es el nivel que tienen no más!!!😁😁😁\n",
      "Compraste tu pasaje o también lo pague yo??\n",
      "Tan tarde!!! Pooooobres! Les va a dar surmenage!!😂😂😂\n",
      "😂😂😂😂😂😂😂😂😂😂😂😂😂😂😂😂😂\n",
      "Derecho a la igualdad!’!!??? Igualdad en que, con que, como???!!!\n",
      "Y a trabajar??!\n",
      "Sácate el disfraz!!!\n",
      "Lista la chavista\n",
      "Cuanto se gastaron ??  Como 30mil millones?\n",
      "Ninguna bandera chilena!!! \n",
      "lo que nos rige \n",
      "Vaya vaya!!?\n",
      "Nuestra constitución \n",
      "Será como el libro gordo de Petete pero en unos tres tomos!!😂😂😂😂😂\n",
      "Aborto hasta el noveno mes.  Y mucho más\n",
      "Matamala po !! Más comunista que las arañas!!!!\n",
      "Puedes dar una explicación???!!\n",
      "Quien era la persona fallecida en balacera de Meiggs?   Sin más comentarios. \n",
      "Quien eres?? 😳😳\n",
      "😂😂😂😂😂😂😂😂😂😂😂😂😂😂😂😂😂😂😂😂😂😂otro merluzo!!!!! 😳😳😳\n",
      "Bórrense!!!\n",
      "Lee \n",
      "Bájate de ese avión sinverguenza!!! Pagaste tu pasaje o te lo pague yo???!!\n",
      "La farra de la campaña para aprobar el mamarracha chavista. Sinverguenzas usurpadores de recursos!!!! Paren el circo!!!\n",
      "De que sirve esto???? Ya está escrito el borrador!!!!  Siguen gastando recursos míos y de la gente!!!!!\n",
      "Que se borre\n",
      "Ya está hecha !! No tienen nada que ir a hacer al norte o al sur maldita sea!!!!\n",
      "No han logrado nada\n",
      "Turba constituyente chavista\n",
      "😂😂😂😂😂😂😂😂😂😂😂😂😂😂😂😂😂😂\n",
      "Como destruyen Chile.\n",
      "Jajajajajaja!!! Y me puedes explicar cómo verificarán y concretarán ese derecho???!! 😂😂😂😂😂😂El papel aguanta todo!\n",
      "Una wea con patas!!!\n",
      "Entre monos\n",
      "Fierro con los terroristas. Tolerancia CERO\n",
      "Todo lo que no gusta al PC es triste sea bueno o malo incluso si viene de sus aliados.\n",
      "La Stinga trabajo por el Rechazo!!! 😂😂😂\n",
      "Lo que nos rige. Infórmate y dime lo que debe ser cambiado: \n",
      "RECHAZO por CHILE.   Extirpar el cancer marxista \n",
      "No me interesa.   RECHAZO!!!🇨🇱🇨🇱🇨🇱\n",
      "Lo que abunda hoy es corrupcion\n",
      "El único actuar racista proviene de los escaños reservados de los indígenas que son una insignificante minoría!\n",
      "Dale con la estupidez de “las y los”. Te falto “les”. RIDICULOS!!!\n",
      "😂😂😂😂😂😂😂😂gran chavista\n",
      "Y algún deber??!\n",
      "Te cuesta no ser el Vice ah?!  Gaspar es muy superior y más competente que tú 😉😉\n",
      "Y el terrorismo que???\n",
      "Son todas tan ingenuas en la CC??!\n",
      "🤔🤔Que manera de varar en pagos de “funcionarios estatales” serán una plaga!!\n",
      "Creí por tu foto que eras Héctor Llaitul 😳😳\n",
      "Yaaa??  O sea no más litio 😂😂😂😂😂😂\n",
      "R I D I C U L O !!!!!!\n",
      "Boric imposibilitado para combatir el terrorismo    Si Ud ama a CHILE Vote RECHAZO 🇨🇱🇨🇱🇨🇱 \n",
      "Comunistas ratas repugnantes\n",
      "Ya perfumaron el estiércol??\n",
      "Mientes!! \n",
      "Cuidado con los indios!! En cualquier momento atacan 😂😂😂\n",
      "“Los sistemas de justicia”. Entiendes que estás diciendo??!!!\n",
      "Claro un Chile comunista\n",
      "Desinformación o pura realidad?? \n",
      "Derrochando recursos!\n",
      "Eres…. No se que eres Bassa….. aweonao! como decía Bombalet.\n",
      "Que se quede como borrador no más por el bien superior de Chile.\n",
      "Donde cobro la mía??  😳\n",
      "Siempre ha sido así. No existen platas privadas\n",
      "Habla de personas todas\n",
      "Y también el repugnante comercio ambulante??\n",
      "Jajajajaja seguro y se está notando!!! 😂😂😂😂😂😂\n",
      "El vapor?! 😂😂😂\n",
      "Prohibirán luces antiniebla!! 😳😂😂😂😂😂😂😂😂😂\n",
      "No creo nada de lo que Uds declaran!!\n",
      "CHILE en PELIGRO!!!! \n",
      "Que miereeeedo!!!!!\n",
      "Rechazo a la Chavista!!! Por 🇨🇱\n",
      "Inmunda y nefasta comunista\n",
      "Que dices de esto?! Tienes propia campaña del RECHAZO!’ 😂😂😂 \n",
      "434 artículos!!!!!!!!??😳😳😳😳😳😳😳😳😳😳😳😳😳\n",
      "Nunca ha sido periodista o reportera.\n",
      "Y ella fue herida a bala por los mismos delincuentes que tú garrapata inmunda, defiendes!!!\n",
      "Gracias por avisar. Veré Chilevision!! 😂😂😂\n",
      "Derecho al trabajo decente….🤔🤔🤔🤔a que se refieren???!!\n",
      "No hay derecho a tu vivienda propia. Solo una especie de consignación sujeta al partido 😂\n",
      "Todo lo que sea rechazo le hace bien al buen superior de Chile\n",
      "Te inscribiste ya en el PC??\n",
      "“ que vamos a hacer con este circo presidente”. ??!\n",
      "No existe la constitución de Pinochet!! BURRO!!!!! \n",
      "Hablan de pueblos y NACIONES indígenas…. !!  Me pregunto que vendría siendo Chile!!?\n",
      "Sería Naciones Unidas de Chile 😂😂😂\n",
      "Esta ocupado 😂😂😂\n",
      "Porque países como España o México o USA o Reino Unido no son denominados plurinacionales??\n",
      "Mosco inmundo\n",
      "Tu sobras?\n",
      "Andas fondeado?\n",
      "Hubo algunos que un poco de ética les queda y se bajaron de la gira!\n",
      "Sueldos??\n",
      "lo que nos espera si se aprueba la chavista.  Para muestra un botón. \n",
      "Inaceptable!!! \n",
      "Así es \n",
      "La Loncon es terrorista\n",
      "Muerte por causa del comunismo!!\n",
      "Y que sería una muerte digna??? Funeral pagado por el estado por ejemplo???!\n",
      "Salud de pésima calidad para todos. Estilo Cuba\n",
      "Derecho a mil cosas pero no dicen como\n",
      "Hagan bien la pega. Uds mismos rechazan lo que Uds mismos proponen!! Un chiste…. Pero es campaña de la derecha!!\n",
      "Chuuuuu!! Cuantos holgazanes con sueldo tendremos!!\n",
      "MENTIROSO!!!! Nadie te cree\n",
      "Así que trabajando para el RECHAZO !! Que bien! Me alegro! \n",
      "Jajajajajajaha!!!! Tus cumpas en esta foto que votarán apruebo 😂😂😂 \n"
     ]
    }
   ],
   "source": [
    "show_similar_pair(user, list(users.keys())[0])"
   ]
  }
 ],
 "metadata": {
  "colab": {
   "provenance": []
  },
  "kernelspec": {
   "display_name": "Python 3 (ipykernel)",
   "language": "python",
   "name": "python3"
  },
  "language_info": {
   "codemirror_mode": {
    "name": "ipython",
    "version": 3
   },
   "file_extension": ".py",
   "mimetype": "text/x-python",
   "name": "python",
   "nbconvert_exporter": "python",
   "pygments_lexer": "ipython3",
   "version": "3.9.13"
  }
 },
 "nbformat": 4,
 "nbformat_minor": 1
}
